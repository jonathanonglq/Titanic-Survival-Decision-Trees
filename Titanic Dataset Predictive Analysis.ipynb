{
 "cells": [
  {
   "cell_type": "markdown",
   "metadata": {},
   "source": [
    "# Titanic Dataset Predictive Analysis .\n"
   ]
  },
  {
   "cell_type": "code",
   "execution_count": 15,
   "metadata": {},
   "outputs": [],
   "source": [
    "import pandas as pd\n",
    "import numpy as np\n",
    "from matplotlib import cm as cm\n",
    "import seaborn as sns\n",
    "import matplotlib.pyplot as plt"
   ]
  },
  {
   "cell_type": "markdown",
   "metadata": {},
   "source": [
    "**Note that we only import train.csv data because the test.csv data has no target values. The test data will be created from a proportion of the train.csv data.**"
   ]
  },
  {
   "cell_type": "code",
   "execution_count": 84,
   "metadata": {
    "scrolled": true
   },
   "outputs": [
    {
     "name": "stdout",
     "output_type": "stream",
     "text": [
      "Training data shape: (891, 12)\n"
     ]
    },
    {
     "data": {
      "text/html": [
       "<div>\n",
       "<style scoped>\n",
       "    .dataframe tbody tr th:only-of-type {\n",
       "        vertical-align: middle;\n",
       "    }\n",
       "\n",
       "    .dataframe tbody tr th {\n",
       "        vertical-align: top;\n",
       "    }\n",
       "\n",
       "    .dataframe thead th {\n",
       "        text-align: right;\n",
       "    }\n",
       "</style>\n",
       "<table border=\"1\" class=\"dataframe\">\n",
       "  <thead>\n",
       "    <tr style=\"text-align: right;\">\n",
       "      <th></th>\n",
       "      <th>PassengerId</th>\n",
       "      <th>Survived</th>\n",
       "      <th>Pclass</th>\n",
       "      <th>Name</th>\n",
       "      <th>Sex</th>\n",
       "      <th>Age</th>\n",
       "      <th>SibSp</th>\n",
       "      <th>Parch</th>\n",
       "      <th>Ticket</th>\n",
       "      <th>Fare</th>\n",
       "      <th>Cabin</th>\n",
       "      <th>Embarked</th>\n",
       "    </tr>\n",
       "  </thead>\n",
       "  <tbody>\n",
       "    <tr>\n",
       "      <th>0</th>\n",
       "      <td>1</td>\n",
       "      <td>0</td>\n",
       "      <td>3</td>\n",
       "      <td>Braund, Mr. Owen Harris</td>\n",
       "      <td>male</td>\n",
       "      <td>22.0</td>\n",
       "      <td>1</td>\n",
       "      <td>0</td>\n",
       "      <td>A/5 21171</td>\n",
       "      <td>7.2500</td>\n",
       "      <td>NaN</td>\n",
       "      <td>S</td>\n",
       "    </tr>\n",
       "    <tr>\n",
       "      <th>1</th>\n",
       "      <td>2</td>\n",
       "      <td>1</td>\n",
       "      <td>1</td>\n",
       "      <td>Cumings, Mrs. John Bradley (Florence Briggs Th...</td>\n",
       "      <td>female</td>\n",
       "      <td>38.0</td>\n",
       "      <td>1</td>\n",
       "      <td>0</td>\n",
       "      <td>PC 17599</td>\n",
       "      <td>71.2833</td>\n",
       "      <td>C85</td>\n",
       "      <td>C</td>\n",
       "    </tr>\n",
       "    <tr>\n",
       "      <th>2</th>\n",
       "      <td>3</td>\n",
       "      <td>1</td>\n",
       "      <td>3</td>\n",
       "      <td>Heikkinen, Miss. Laina</td>\n",
       "      <td>female</td>\n",
       "      <td>26.0</td>\n",
       "      <td>0</td>\n",
       "      <td>0</td>\n",
       "      <td>STON/O2. 3101282</td>\n",
       "      <td>7.9250</td>\n",
       "      <td>NaN</td>\n",
       "      <td>S</td>\n",
       "    </tr>\n",
       "    <tr>\n",
       "      <th>3</th>\n",
       "      <td>4</td>\n",
       "      <td>1</td>\n",
       "      <td>1</td>\n",
       "      <td>Futrelle, Mrs. Jacques Heath (Lily May Peel)</td>\n",
       "      <td>female</td>\n",
       "      <td>35.0</td>\n",
       "      <td>1</td>\n",
       "      <td>0</td>\n",
       "      <td>113803</td>\n",
       "      <td>53.1000</td>\n",
       "      <td>C123</td>\n",
       "      <td>S</td>\n",
       "    </tr>\n",
       "    <tr>\n",
       "      <th>4</th>\n",
       "      <td>5</td>\n",
       "      <td>0</td>\n",
       "      <td>3</td>\n",
       "      <td>Allen, Mr. William Henry</td>\n",
       "      <td>male</td>\n",
       "      <td>35.0</td>\n",
       "      <td>0</td>\n",
       "      <td>0</td>\n",
       "      <td>373450</td>\n",
       "      <td>8.0500</td>\n",
       "      <td>NaN</td>\n",
       "      <td>S</td>\n",
       "    </tr>\n",
       "  </tbody>\n",
       "</table>\n",
       "</div>"
      ],
      "text/plain": [
       "   PassengerId  Survived  Pclass  \\\n",
       "0            1         0       3   \n",
       "1            2         1       1   \n",
       "2            3         1       3   \n",
       "3            4         1       1   \n",
       "4            5         0       3   \n",
       "\n",
       "                                                Name     Sex   Age  SibSp  \\\n",
       "0                            Braund, Mr. Owen Harris    male  22.0      1   \n",
       "1  Cumings, Mrs. John Bradley (Florence Briggs Th...  female  38.0      1   \n",
       "2                             Heikkinen, Miss. Laina  female  26.0      0   \n",
       "3       Futrelle, Mrs. Jacques Heath (Lily May Peel)  female  35.0      1   \n",
       "4                           Allen, Mr. William Henry    male  35.0      0   \n",
       "\n",
       "   Parch            Ticket     Fare Cabin Embarked  \n",
       "0      0         A/5 21171   7.2500   NaN        S  \n",
       "1      0          PC 17599  71.2833   C85        C  \n",
       "2      0  STON/O2. 3101282   7.9250   NaN        S  \n",
       "3      0            113803  53.1000  C123        S  \n",
       "4      0            373450   8.0500   NaN        S  "
      ]
     },
     "execution_count": 84,
     "metadata": {},
     "output_type": "execute_result"
    }
   ],
   "source": [
    "train = pd.read_csv('train.csv')\n",
    "print('Training data shape:', train.shape)\n",
    "train.head()"
   ]
  },
  {
   "cell_type": "code",
   "execution_count": 85,
   "metadata": {},
   "outputs": [
    {
     "name": "stdout",
     "output_type": "stream",
     "text": [
      "Data type and number of observations in training set:\n",
      "\n",
      "<class 'pandas.core.frame.DataFrame'>\n",
      "RangeIndex: 891 entries, 0 to 890\n",
      "Data columns (total 12 columns):\n",
      "PassengerId    891 non-null int64\n",
      "Survived       891 non-null int64\n",
      "Pclass         891 non-null int64\n",
      "Name           891 non-null object\n",
      "Sex            891 non-null object\n",
      "Age            714 non-null float64\n",
      "SibSp          891 non-null int64\n",
      "Parch          891 non-null int64\n",
      "Ticket         891 non-null object\n",
      "Fare           891 non-null float64\n",
      "Cabin          204 non-null object\n",
      "Embarked       889 non-null object\n",
      "dtypes: float64(2), int64(5), object(5)\n",
      "memory usage: 83.6+ KB\n",
      "None\n"
     ]
    }
   ],
   "source": [
    "print('Data type and number of observations in training set:')\n",
    "print()\n",
    "print(train.info())"
   ]
  },
  {
   "cell_type": "code",
   "execution_count": 86,
   "metadata": {},
   "outputs": [
    {
     "name": "stdout",
     "output_type": "stream",
     "text": [
      "Number of missing values in training data:\n",
      "\n",
      "PassengerId      0\n",
      "Survived         0\n",
      "Pclass           0\n",
      "Name             0\n",
      "Sex              0\n",
      "Age            177\n",
      "SibSp            0\n",
      "Parch            0\n",
      "Ticket           0\n",
      "Fare             0\n",
      "Cabin          687\n",
      "Embarked         2\n",
      "dtype: int64\n"
     ]
    },
    {
     "data": {
      "text/html": [
       "<div>\n",
       "<style scoped>\n",
       "    .dataframe tbody tr th:only-of-type {\n",
       "        vertical-align: middle;\n",
       "    }\n",
       "\n",
       "    .dataframe tbody tr th {\n",
       "        vertical-align: top;\n",
       "    }\n",
       "\n",
       "    .dataframe thead th {\n",
       "        text-align: right;\n",
       "    }\n",
       "</style>\n",
       "<table border=\"1\" class=\"dataframe\">\n",
       "  <thead>\n",
       "    <tr style=\"text-align: right;\">\n",
       "      <th></th>\n",
       "      <th>PassengerId</th>\n",
       "      <th>Survived</th>\n",
       "      <th>Pclass</th>\n",
       "      <th>Age</th>\n",
       "      <th>SibSp</th>\n",
       "      <th>Parch</th>\n",
       "      <th>Fare</th>\n",
       "    </tr>\n",
       "  </thead>\n",
       "  <tbody>\n",
       "    <tr>\n",
       "      <th>count</th>\n",
       "      <td>891.000000</td>\n",
       "      <td>891.000000</td>\n",
       "      <td>891.000000</td>\n",
       "      <td>714.000000</td>\n",
       "      <td>891.000000</td>\n",
       "      <td>891.000000</td>\n",
       "      <td>891.000000</td>\n",
       "    </tr>\n",
       "    <tr>\n",
       "      <th>mean</th>\n",
       "      <td>446.000000</td>\n",
       "      <td>0.383838</td>\n",
       "      <td>2.308642</td>\n",
       "      <td>29.699118</td>\n",
       "      <td>0.523008</td>\n",
       "      <td>0.381594</td>\n",
       "      <td>32.204208</td>\n",
       "    </tr>\n",
       "    <tr>\n",
       "      <th>std</th>\n",
       "      <td>257.353842</td>\n",
       "      <td>0.486592</td>\n",
       "      <td>0.836071</td>\n",
       "      <td>14.526497</td>\n",
       "      <td>1.102743</td>\n",
       "      <td>0.806057</td>\n",
       "      <td>49.693429</td>\n",
       "    </tr>\n",
       "    <tr>\n",
       "      <th>min</th>\n",
       "      <td>1.000000</td>\n",
       "      <td>0.000000</td>\n",
       "      <td>1.000000</td>\n",
       "      <td>0.420000</td>\n",
       "      <td>0.000000</td>\n",
       "      <td>0.000000</td>\n",
       "      <td>0.000000</td>\n",
       "    </tr>\n",
       "    <tr>\n",
       "      <th>25%</th>\n",
       "      <td>223.500000</td>\n",
       "      <td>0.000000</td>\n",
       "      <td>2.000000</td>\n",
       "      <td>20.125000</td>\n",
       "      <td>0.000000</td>\n",
       "      <td>0.000000</td>\n",
       "      <td>7.910400</td>\n",
       "    </tr>\n",
       "    <tr>\n",
       "      <th>50%</th>\n",
       "      <td>446.000000</td>\n",
       "      <td>0.000000</td>\n",
       "      <td>3.000000</td>\n",
       "      <td>28.000000</td>\n",
       "      <td>0.000000</td>\n",
       "      <td>0.000000</td>\n",
       "      <td>14.454200</td>\n",
       "    </tr>\n",
       "    <tr>\n",
       "      <th>75%</th>\n",
       "      <td>668.500000</td>\n",
       "      <td>1.000000</td>\n",
       "      <td>3.000000</td>\n",
       "      <td>38.000000</td>\n",
       "      <td>1.000000</td>\n",
       "      <td>0.000000</td>\n",
       "      <td>31.000000</td>\n",
       "    </tr>\n",
       "    <tr>\n",
       "      <th>max</th>\n",
       "      <td>891.000000</td>\n",
       "      <td>1.000000</td>\n",
       "      <td>3.000000</td>\n",
       "      <td>80.000000</td>\n",
       "      <td>8.000000</td>\n",
       "      <td>6.000000</td>\n",
       "      <td>512.329200</td>\n",
       "    </tr>\n",
       "  </tbody>\n",
       "</table>\n",
       "</div>"
      ],
      "text/plain": [
       "       PassengerId    Survived      Pclass         Age       SibSp  \\\n",
       "count   891.000000  891.000000  891.000000  714.000000  891.000000   \n",
       "mean    446.000000    0.383838    2.308642   29.699118    0.523008   \n",
       "std     257.353842    0.486592    0.836071   14.526497    1.102743   \n",
       "min       1.000000    0.000000    1.000000    0.420000    0.000000   \n",
       "25%     223.500000    0.000000    2.000000   20.125000    0.000000   \n",
       "50%     446.000000    0.000000    3.000000   28.000000    0.000000   \n",
       "75%     668.500000    1.000000    3.000000   38.000000    1.000000   \n",
       "max     891.000000    1.000000    3.000000   80.000000    8.000000   \n",
       "\n",
       "            Parch        Fare  \n",
       "count  891.000000  891.000000  \n",
       "mean     0.381594   32.204208  \n",
       "std      0.806057   49.693429  \n",
       "min      0.000000    0.000000  \n",
       "25%      0.000000    7.910400  \n",
       "50%      0.000000   14.454200  \n",
       "75%      0.000000   31.000000  \n",
       "max      6.000000  512.329200  "
      ]
     },
     "execution_count": 86,
     "metadata": {},
     "output_type": "execute_result"
    }
   ],
   "source": [
    "print('Number of missing values in training data:')\n",
    "print()\n",
    "print(train.isna().sum())\n",
    "train.describe()"
   ]
  },
  {
   "cell_type": "markdown",
   "metadata": {},
   "source": [
    "**Here, we determine if training data set is balanced:**"
   ]
  },
  {
   "cell_type": "code",
   "execution_count": 87,
   "metadata": {
    "scrolled": true
   },
   "outputs": [
    {
     "name": "stdout",
     "output_type": "stream",
     "text": [
      "0    549\n",
      "1    342\n",
      "Name: Survived, dtype: int64\n",
      "\n",
      "Baseline prediction accuracy: 61.62 %\n"
     ]
    }
   ],
   "source": [
    "print(train['Survived'].value_counts())\n",
    "print()\n",
    "print('Baseline prediction accuracy:', np.around(train['Survived'].value_counts()[0]/len(train)*100,2),'%')"
   ]
  },
  {
   "cell_type": "markdown",
   "metadata": {},
   "source": [
    "### 1.2 Correlates of survival\n",
    "\n",
    "Use whatever methods you can think of to try and figure out what factors seem to determine whether or not a person would survive the sinking of the Titanic. What do you conclude?"
   ]
  },
  {
   "cell_type": "markdown",
   "metadata": {},
   "source": [
    "**Section 1.2**\n",
    "\n",
    "**Answers:** \n",
    "\n",
    "To analyze the data set further and see which factors might have significant impact on survivability, it is necessary to pre-process the data. Here, we drop columns we deem as redundant or with many missing values (i.e. Ticket, Cabin, PassengerId). \n",
    "\n",
    "Also, our hypothesis is that the 'Sex' of the passenger, as well as 'Pclass are good indicators of survivability. We will investigate this hypothesis further."
   ]
  },
  {
   "cell_type": "code",
   "execution_count": 95,
   "metadata": {},
   "outputs": [
    {
     "name": "stdout",
     "output_type": "stream",
     "text": [
      "Training data shape: (891, 12)\n"
     ]
    },
    {
     "data": {
      "text/html": [
       "<div>\n",
       "<style scoped>\n",
       "    .dataframe tbody tr th:only-of-type {\n",
       "        vertical-align: middle;\n",
       "    }\n",
       "\n",
       "    .dataframe tbody tr th {\n",
       "        vertical-align: top;\n",
       "    }\n",
       "\n",
       "    .dataframe thead th {\n",
       "        text-align: right;\n",
       "    }\n",
       "</style>\n",
       "<table border=\"1\" class=\"dataframe\">\n",
       "  <thead>\n",
       "    <tr style=\"text-align: right;\">\n",
       "      <th></th>\n",
       "      <th>PassengerId</th>\n",
       "      <th>Survived</th>\n",
       "      <th>Pclass</th>\n",
       "      <th>Name</th>\n",
       "      <th>Sex</th>\n",
       "      <th>Age</th>\n",
       "      <th>SibSp</th>\n",
       "      <th>Parch</th>\n",
       "      <th>Ticket</th>\n",
       "      <th>Fare</th>\n",
       "      <th>Cabin</th>\n",
       "      <th>Embarked</th>\n",
       "    </tr>\n",
       "  </thead>\n",
       "  <tbody>\n",
       "    <tr>\n",
       "      <th>0</th>\n",
       "      <td>1</td>\n",
       "      <td>0</td>\n",
       "      <td>3</td>\n",
       "      <td>Braund, Mr. Owen Harris</td>\n",
       "      <td>male</td>\n",
       "      <td>22.0</td>\n",
       "      <td>1</td>\n",
       "      <td>0</td>\n",
       "      <td>A/5 21171</td>\n",
       "      <td>7.2500</td>\n",
       "      <td>NaN</td>\n",
       "      <td>S</td>\n",
       "    </tr>\n",
       "    <tr>\n",
       "      <th>1</th>\n",
       "      <td>2</td>\n",
       "      <td>1</td>\n",
       "      <td>1</td>\n",
       "      <td>Cumings, Mrs. John Bradley (Florence Briggs Th...</td>\n",
       "      <td>female</td>\n",
       "      <td>38.0</td>\n",
       "      <td>1</td>\n",
       "      <td>0</td>\n",
       "      <td>PC 17599</td>\n",
       "      <td>71.2833</td>\n",
       "      <td>C85</td>\n",
       "      <td>C</td>\n",
       "    </tr>\n",
       "    <tr>\n",
       "      <th>2</th>\n",
       "      <td>3</td>\n",
       "      <td>1</td>\n",
       "      <td>3</td>\n",
       "      <td>Heikkinen, Miss. Laina</td>\n",
       "      <td>female</td>\n",
       "      <td>26.0</td>\n",
       "      <td>0</td>\n",
       "      <td>0</td>\n",
       "      <td>STON/O2. 3101282</td>\n",
       "      <td>7.9250</td>\n",
       "      <td>NaN</td>\n",
       "      <td>S</td>\n",
       "    </tr>\n",
       "    <tr>\n",
       "      <th>3</th>\n",
       "      <td>4</td>\n",
       "      <td>1</td>\n",
       "      <td>1</td>\n",
       "      <td>Futrelle, Mrs. Jacques Heath (Lily May Peel)</td>\n",
       "      <td>female</td>\n",
       "      <td>35.0</td>\n",
       "      <td>1</td>\n",
       "      <td>0</td>\n",
       "      <td>113803</td>\n",
       "      <td>53.1000</td>\n",
       "      <td>C123</td>\n",
       "      <td>S</td>\n",
       "    </tr>\n",
       "    <tr>\n",
       "      <th>4</th>\n",
       "      <td>5</td>\n",
       "      <td>0</td>\n",
       "      <td>3</td>\n",
       "      <td>Allen, Mr. William Henry</td>\n",
       "      <td>male</td>\n",
       "      <td>35.0</td>\n",
       "      <td>0</td>\n",
       "      <td>0</td>\n",
       "      <td>373450</td>\n",
       "      <td>8.0500</td>\n",
       "      <td>NaN</td>\n",
       "      <td>S</td>\n",
       "    </tr>\n",
       "  </tbody>\n",
       "</table>\n",
       "</div>"
      ],
      "text/plain": [
       "   PassengerId  Survived  Pclass  \\\n",
       "0            1         0       3   \n",
       "1            2         1       1   \n",
       "2            3         1       3   \n",
       "3            4         1       1   \n",
       "4            5         0       3   \n",
       "\n",
       "                                                Name     Sex   Age  SibSp  \\\n",
       "0                            Braund, Mr. Owen Harris    male  22.0      1   \n",
       "1  Cumings, Mrs. John Bradley (Florence Briggs Th...  female  38.0      1   \n",
       "2                             Heikkinen, Miss. Laina  female  26.0      0   \n",
       "3       Futrelle, Mrs. Jacques Heath (Lily May Peel)  female  35.0      1   \n",
       "4                           Allen, Mr. William Henry    male  35.0      0   \n",
       "\n",
       "   Parch            Ticket     Fare Cabin Embarked  \n",
       "0      0         A/5 21171   7.2500   NaN        S  \n",
       "1      0          PC 17599  71.2833   C85        C  \n",
       "2      0  STON/O2. 3101282   7.9250   NaN        S  \n",
       "3      0            113803  53.1000  C123        S  \n",
       "4      0            373450   8.0500   NaN        S  "
      ]
     },
     "execution_count": 95,
     "metadata": {},
     "output_type": "execute_result"
    }
   ],
   "source": [
    "train = pd.read_csv('train.csv')\n",
    "print('Training data shape:', train.shape)\n",
    "train.head()"
   ]
  },
  {
   "cell_type": "code",
   "execution_count": 96,
   "metadata": {},
   "outputs": [
    {
     "data": {
      "text/html": [
       "<div>\n",
       "<style scoped>\n",
       "    .dataframe tbody tr th:only-of-type {\n",
       "        vertical-align: middle;\n",
       "    }\n",
       "\n",
       "    .dataframe tbody tr th {\n",
       "        vertical-align: top;\n",
       "    }\n",
       "\n",
       "    .dataframe thead th {\n",
       "        text-align: right;\n",
       "    }\n",
       "</style>\n",
       "<table border=\"1\" class=\"dataframe\">\n",
       "  <thead>\n",
       "    <tr style=\"text-align: right;\">\n",
       "      <th></th>\n",
       "      <th>Survived</th>\n",
       "    </tr>\n",
       "    <tr>\n",
       "      <th>Sex</th>\n",
       "      <th></th>\n",
       "    </tr>\n",
       "  </thead>\n",
       "  <tbody>\n",
       "    <tr>\n",
       "      <th>female</th>\n",
       "      <td>0.742038</td>\n",
       "    </tr>\n",
       "    <tr>\n",
       "      <th>male</th>\n",
       "      <td>0.188908</td>\n",
       "    </tr>\n",
       "  </tbody>\n",
       "</table>\n",
       "</div>"
      ],
      "text/plain": [
       "        Survived\n",
       "Sex             \n",
       "female  0.742038\n",
       "male    0.188908"
      ]
     },
     "execution_count": 96,
     "metadata": {},
     "output_type": "execute_result"
    }
   ],
   "source": [
    "train.drop(['Ticket','Cabin','PassengerId'], axis = 1, inplace = True)\n",
    "pd.DataFrame(train.groupby('Sex').mean()['Survived'])"
   ]
  },
  {
   "cell_type": "code",
   "execution_count": 97,
   "metadata": {},
   "outputs": [
    {
     "data": {
      "text/html": [
       "<div>\n",
       "<style scoped>\n",
       "    .dataframe tbody tr th:only-of-type {\n",
       "        vertical-align: middle;\n",
       "    }\n",
       "\n",
       "    .dataframe tbody tr th {\n",
       "        vertical-align: top;\n",
       "    }\n",
       "\n",
       "    .dataframe thead th {\n",
       "        text-align: right;\n",
       "    }\n",
       "</style>\n",
       "<table border=\"1\" class=\"dataframe\">\n",
       "  <thead>\n",
       "    <tr style=\"text-align: right;\">\n",
       "      <th></th>\n",
       "      <th>Survived</th>\n",
       "    </tr>\n",
       "    <tr>\n",
       "      <th>Pclass</th>\n",
       "      <th></th>\n",
       "    </tr>\n",
       "  </thead>\n",
       "  <tbody>\n",
       "    <tr>\n",
       "      <th>1</th>\n",
       "      <td>0.629630</td>\n",
       "    </tr>\n",
       "    <tr>\n",
       "      <th>2</th>\n",
       "      <td>0.472826</td>\n",
       "    </tr>\n",
       "    <tr>\n",
       "      <th>3</th>\n",
       "      <td>0.242363</td>\n",
       "    </tr>\n",
       "  </tbody>\n",
       "</table>\n",
       "</div>"
      ],
      "text/plain": [
       "        Survived\n",
       "Pclass          \n",
       "1       0.629630\n",
       "2       0.472826\n",
       "3       0.242363"
      ]
     },
     "execution_count": 97,
     "metadata": {},
     "output_type": "execute_result"
    }
   ],
   "source": [
    "pd.DataFrame(train.groupby('Pclass').mean()['Survived'])"
   ]
  },
  {
   "cell_type": "markdown",
   "metadata": {},
   "source": [
    "**Answers:** \n",
    "\n",
    "Indeed, female passengers had a high survival rate of about 74.2% compared to male passengers who had a survivability of about 18.9%. \n",
    "\n",
    "Moreover, the class of the passenger plays a major role in determining survivability. Here, we see that passengers with in Pclass = 1 has a 63.0% chance of survival, while those from Pclass = 3 has only a 24.2% of survival.\n",
    "\n",
    "Next, we convert 'Sex' into a binary variable."
   ]
  },
  {
   "cell_type": "code",
   "execution_count": 98,
   "metadata": {},
   "outputs": [],
   "source": [
    "train['Sex'] = train['Sex'].map( {'female': 1, 'male': 0} ).astype(int)"
   ]
  },
  {
   "cell_type": "markdown",
   "metadata": {},
   "source": [
    "**The training and test sets now look like:**"
   ]
  },
  {
   "cell_type": "code",
   "execution_count": 99,
   "metadata": {
    "scrolled": false
   },
   "outputs": [
    {
     "name": "stdout",
     "output_type": "stream",
     "text": [
      "Shape of training set: (891, 9)\n",
      "Number of missing observations in training set:\n",
      "\n",
      "Survived      0\n",
      "Pclass        0\n",
      "Name          0\n",
      "Sex           0\n",
      "Age         177\n",
      "SibSp         0\n",
      "Parch         0\n",
      "Fare          0\n",
      "Embarked      2\n",
      "dtype: int64\n"
     ]
    },
    {
     "data": {
      "text/html": [
       "<div>\n",
       "<style scoped>\n",
       "    .dataframe tbody tr th:only-of-type {\n",
       "        vertical-align: middle;\n",
       "    }\n",
       "\n",
       "    .dataframe tbody tr th {\n",
       "        vertical-align: top;\n",
       "    }\n",
       "\n",
       "    .dataframe thead th {\n",
       "        text-align: right;\n",
       "    }\n",
       "</style>\n",
       "<table border=\"1\" class=\"dataframe\">\n",
       "  <thead>\n",
       "    <tr style=\"text-align: right;\">\n",
       "      <th></th>\n",
       "      <th>Survived</th>\n",
       "      <th>Pclass</th>\n",
       "      <th>Name</th>\n",
       "      <th>Sex</th>\n",
       "      <th>Age</th>\n",
       "      <th>SibSp</th>\n",
       "      <th>Parch</th>\n",
       "      <th>Fare</th>\n",
       "      <th>Embarked</th>\n",
       "    </tr>\n",
       "  </thead>\n",
       "  <tbody>\n",
       "    <tr>\n",
       "      <th>0</th>\n",
       "      <td>0</td>\n",
       "      <td>3</td>\n",
       "      <td>Braund, Mr. Owen Harris</td>\n",
       "      <td>0</td>\n",
       "      <td>22.0</td>\n",
       "      <td>1</td>\n",
       "      <td>0</td>\n",
       "      <td>7.2500</td>\n",
       "      <td>S</td>\n",
       "    </tr>\n",
       "    <tr>\n",
       "      <th>1</th>\n",
       "      <td>1</td>\n",
       "      <td>1</td>\n",
       "      <td>Cumings, Mrs. John Bradley (Florence Briggs Th...</td>\n",
       "      <td>1</td>\n",
       "      <td>38.0</td>\n",
       "      <td>1</td>\n",
       "      <td>0</td>\n",
       "      <td>71.2833</td>\n",
       "      <td>C</td>\n",
       "    </tr>\n",
       "    <tr>\n",
       "      <th>2</th>\n",
       "      <td>1</td>\n",
       "      <td>3</td>\n",
       "      <td>Heikkinen, Miss. Laina</td>\n",
       "      <td>1</td>\n",
       "      <td>26.0</td>\n",
       "      <td>0</td>\n",
       "      <td>0</td>\n",
       "      <td>7.9250</td>\n",
       "      <td>S</td>\n",
       "    </tr>\n",
       "    <tr>\n",
       "      <th>3</th>\n",
       "      <td>1</td>\n",
       "      <td>1</td>\n",
       "      <td>Futrelle, Mrs. Jacques Heath (Lily May Peel)</td>\n",
       "      <td>1</td>\n",
       "      <td>35.0</td>\n",
       "      <td>1</td>\n",
       "      <td>0</td>\n",
       "      <td>53.1000</td>\n",
       "      <td>S</td>\n",
       "    </tr>\n",
       "    <tr>\n",
       "      <th>4</th>\n",
       "      <td>0</td>\n",
       "      <td>3</td>\n",
       "      <td>Allen, Mr. William Henry</td>\n",
       "      <td>0</td>\n",
       "      <td>35.0</td>\n",
       "      <td>0</td>\n",
       "      <td>0</td>\n",
       "      <td>8.0500</td>\n",
       "      <td>S</td>\n",
       "    </tr>\n",
       "  </tbody>\n",
       "</table>\n",
       "</div>"
      ],
      "text/plain": [
       "   Survived  Pclass                                               Name  Sex  \\\n",
       "0         0       3                            Braund, Mr. Owen Harris    0   \n",
       "1         1       1  Cumings, Mrs. John Bradley (Florence Briggs Th...    1   \n",
       "2         1       3                             Heikkinen, Miss. Laina    1   \n",
       "3         1       1       Futrelle, Mrs. Jacques Heath (Lily May Peel)    1   \n",
       "4         0       3                           Allen, Mr. William Henry    0   \n",
       "\n",
       "    Age  SibSp  Parch     Fare Embarked  \n",
       "0  22.0      1      0   7.2500        S  \n",
       "1  38.0      1      0  71.2833        C  \n",
       "2  26.0      0      0   7.9250        S  \n",
       "3  35.0      1      0  53.1000        S  \n",
       "4  35.0      0      0   8.0500        S  "
      ]
     },
     "execution_count": 99,
     "metadata": {},
     "output_type": "execute_result"
    }
   ],
   "source": [
    "print('Shape of training set:', train.shape)\n",
    "print('Number of missing observations in training set:')\n",
    "print()\n",
    "print(train.isna().sum())\n",
    "train.head()"
   ]
  },
  {
   "cell_type": "markdown",
   "metadata": {},
   "source": [
    "**Here we look at the correlation between all independent variables:**"
   ]
  },
  {
   "cell_type": "code",
   "execution_count": 100,
   "metadata": {},
   "outputs": [
    {
     "data": {
      "image/png": "[encoded data removed]",
      "text/plain": [
       "<matplotlib.figure.Figure at 0x1d28b40ceb8>"
      ]
     },
     "metadata": {},
     "output_type": "display_data"
    }
   ],
   "source": [
    "plt.figure(figsize = (12,10))\n",
    "ax = plt.axes()\n",
    "corr_matrix = train.corr()\n",
    "sns.heatmap(corr_matrix, ax = ax, cmap = \"RdYlGn\", linewidths = 0.05)\n",
    "ax.set_title('Correlation Between All Titanic Survivability Data Variables', fontsize = 16)\n",
    "plt.show()"
   ]
  },
  {
   "cell_type": "markdown",
   "metadata": {},
   "source": [
    "**Section 1 Overall Conclusion**\n",
    "\n",
    "**Answers:**\n",
    "\n",
    "Within this exploratory phase, we have shown the data type of each variable in the data sets, as well as removed variables (e.g. 'Ticket','Cabin','Pclass') which we deem as redundant. We have also noted the number of missing observations for each variable. In addition, the 'Sex' variable is also converted to a binary variable (0,1). \n",
    "\n",
    "Overall, in investigating the importance of factors in determining survivability, we have noted that the variables 'Pclass' and 'Sex' are some factors which _might_ be good indicators of survival. This hypothesis is further substantiated by the relatively higher correlation _magnitude_ (more red and more green colours above) between these factors and 'Survived'.\n",
    "\n",
    "Looking at the independent variable types and values, and taking into account the fact that we will be using decision trees and logistic regression for predictions, we do not see any immediate need to normalize the independent variables. If, however, we decide to implement other algorithms such as K-nearest neighbors, there will be a need to do so. \n",
    "\n",
    "Lastly, we have plotted a correlation table for all of the independent variables. Among the potential predictor variables, all of them are minimally correlated with each other except for 'Pclass' and 'Fare'. This is expected as a better class would likely demand a higher ticket fare. The fact that most of the predictor variables are _not_ highly correlated is great for our machine learning model.  "
   ]
  },
  {
   "cell_type": "markdown",
   "metadata": {},
   "source": [
    "## Part 2: Decision Trees\n",
    "### 2.1 Decision Tree\n",
    "Using the basic [Decision Tree](http://scikit-learn.org/stable/modules/tree.html#tree) library in sklearn, fit a model to predict titanic survival. Make sure you come up with an appropriate way of handling each of the input variables before feeding them in to the decision tree. You can use the [DecisionTreeClassifier](http://scikit-learn.org/stable/modules/generated/sklearn.tree.DecisionTreeClassifier.html#sklearn.tree.DecisionTreeClassifier) method to implement 10-fold cross-validation.\n",
    "\n",
    "For this any the following problems, you should set aside some of your training data as held-out test data, prior to cross-validation. Report the average training and testing accuracy across your 10 folds, and show a diagram of the tree (at least the first three levels). Finally, select the best-performing decision tree (i.e., the one that achieved the highest cross-validated performance) and report the performance of the fitted model on the held-out test data -- how does it compare to the cross-validated accuracy?\n"
   ]
  },
  {
   "cell_type": "markdown",
   "metadata": {},
   "source": [
    "### Section 2.1.1 - Preprocessing Data\n",
    "\n",
    "**Answers:**\n",
    "\n",
    "Before we feed the independent variables into the decision tree, we will need to process the data further. Here, we map 'Embarked' to dummy binary columns, and bucket 'Age','Fare','SibSp' and 'Parch'. \n",
    "\n",
    "Also, for this particular segment, we will simply impute missing 'Embarked' observations (2 missing observations) with the mode of the 'Embarked column. Moreover, rows with NaN values in the 'AgeBand' will also simply be dropped to simplify the approach. The predictive performance of this approach will then be compared against what is obtained when we impute missing data appropriately (later in the notebook)."
   ]
  },
  {
   "cell_type": "code",
   "execution_count": 101,
   "metadata": {},
   "outputs": [],
   "source": [
    "train['Embarked'] = train['Embarked'].fillna(train['Embarked'].dropna().mode()[0])"
   ]
  },
  {
   "cell_type": "code",
   "execution_count": 105,
   "metadata": {},
   "outputs": [
    {
     "data": {
      "text/plain": [
       "Survived      0\n",
       "Pclass        0\n",
       "Name          0\n",
       "Sex           0\n",
       "Age         177\n",
       "SibSp         0\n",
       "Parch         0\n",
       "Fare          0\n",
       "Embarked      0\n",
       "dtype: int64"
      ]
     },
     "execution_count": 105,
     "metadata": {},
     "output_type": "execute_result"
    }
   ],
   "source": [
    "train.isnull().sum()"
   ]
  },
  {
   "cell_type": "code",
   "execution_count": 106,
   "metadata": {},
   "outputs": [],
   "source": [
    "binary_encoded = pd.get_dummies(train.Embarked)\n",
    "newcols = binary_encoded.columns\n",
    "train[newcols] = binary_encoded\n",
    "    \n",
    "train = train.drop(['Embarked'], axis = 1)"
   ]
  },
  {
   "cell_type": "code",
   "execution_count": 108,
   "metadata": {},
   "outputs": [],
   "source": [
    "train['FareBand']=pd.qcut(train['Fare'],4,labels=np.arange(4)).astype(int)\n",
    "\n",
    "qtrain = train.copy() #save dataframe for later parts\n",
    "\n",
    "train['AgeBand']=pd.qcut(train['Age'],5,labels=np.arange(5)).astype(int)\n",
    "train = train.drop(['Age','Fare'], axis = 1)\n",
    "train.loc[train['AgeBand'] < 0, 'AgeBand'] = np.nan # set missing AgeBand values to NaN"
   ]
  },
  {
   "cell_type": "code",
   "execution_count": 111,
   "metadata": {},
   "outputs": [],
   "source": [
    "train.loc[train['SibSp'] >= 2, 'SibSp'] = 2 \n",
    "train.loc[train['Parch'] >= 2, 'Parch'] = 2 "
   ]
  },
  {
   "cell_type": "markdown",
   "metadata": {},
   "source": [
    "**The training set now looks like:**"
   ]
  },
  {
   "cell_type": "code",
   "execution_count": 115,
   "metadata": {},
   "outputs": [
    {
     "name": "stdout",
     "output_type": "stream",
     "text": [
      "Shape of train set: (891, 11)\n"
     ]
    },
    {
     "data": {
      "text/html": [
       "<div>\n",
       "<style scoped>\n",
       "    .dataframe tbody tr th:only-of-type {\n",
       "        vertical-align: middle;\n",
       "    }\n",
       "\n",
       "    .dataframe tbody tr th {\n",
       "        vertical-align: top;\n",
       "    }\n",
       "\n",
       "    .dataframe thead th {\n",
       "        text-align: right;\n",
       "    }\n",
       "</style>\n",
       "<table border=\"1\" class=\"dataframe\">\n",
       "  <thead>\n",
       "    <tr style=\"text-align: right;\">\n",
       "      <th></th>\n",
       "      <th>Survived</th>\n",
       "      <th>Pclass</th>\n",
       "      <th>Name</th>\n",
       "      <th>Sex</th>\n",
       "      <th>SibSp</th>\n",
       "      <th>Parch</th>\n",
       "      <th>C</th>\n",
       "      <th>Q</th>\n",
       "      <th>S</th>\n",
       "      <th>FareBand</th>\n",
       "      <th>AgeBand</th>\n",
       "    </tr>\n",
       "  </thead>\n",
       "  <tbody>\n",
       "    <tr>\n",
       "      <th>0</th>\n",
       "      <td>0</td>\n",
       "      <td>3</td>\n",
       "      <td>Braund, Mr. Owen Harris</td>\n",
       "      <td>0</td>\n",
       "      <td>1</td>\n",
       "      <td>0</td>\n",
       "      <td>0</td>\n",
       "      <td>0</td>\n",
       "      <td>1</td>\n",
       "      <td>0</td>\n",
       "      <td>1.0</td>\n",
       "    </tr>\n",
       "    <tr>\n",
       "      <th>1</th>\n",
       "      <td>1</td>\n",
       "      <td>1</td>\n",
       "      <td>Cumings, Mrs. John Bradley (Florence Briggs Th...</td>\n",
       "      <td>1</td>\n",
       "      <td>1</td>\n",
       "      <td>0</td>\n",
       "      <td>1</td>\n",
       "      <td>0</td>\n",
       "      <td>0</td>\n",
       "      <td>3</td>\n",
       "      <td>3.0</td>\n",
       "    </tr>\n",
       "    <tr>\n",
       "      <th>2</th>\n",
       "      <td>1</td>\n",
       "      <td>3</td>\n",
       "      <td>Heikkinen, Miss. Laina</td>\n",
       "      <td>1</td>\n",
       "      <td>0</td>\n",
       "      <td>0</td>\n",
       "      <td>0</td>\n",
       "      <td>0</td>\n",
       "      <td>1</td>\n",
       "      <td>1</td>\n",
       "      <td>2.0</td>\n",
       "    </tr>\n",
       "    <tr>\n",
       "      <th>3</th>\n",
       "      <td>1</td>\n",
       "      <td>1</td>\n",
       "      <td>Futrelle, Mrs. Jacques Heath (Lily May Peel)</td>\n",
       "      <td>1</td>\n",
       "      <td>1</td>\n",
       "      <td>0</td>\n",
       "      <td>0</td>\n",
       "      <td>0</td>\n",
       "      <td>1</td>\n",
       "      <td>3</td>\n",
       "      <td>3.0</td>\n",
       "    </tr>\n",
       "    <tr>\n",
       "      <th>4</th>\n",
       "      <td>0</td>\n",
       "      <td>3</td>\n",
       "      <td>Allen, Mr. William Henry</td>\n",
       "      <td>0</td>\n",
       "      <td>0</td>\n",
       "      <td>0</td>\n",
       "      <td>0</td>\n",
       "      <td>0</td>\n",
       "      <td>1</td>\n",
       "      <td>1</td>\n",
       "      <td>3.0</td>\n",
       "    </tr>\n",
       "  </tbody>\n",
       "</table>\n",
       "</div>"
      ],
      "text/plain": [
       "   Survived  Pclass                                               Name  Sex  \\\n",
       "0         0       3                            Braund, Mr. Owen Harris    0   \n",
       "1         1       1  Cumings, Mrs. John Bradley (Florence Briggs Th...    1   \n",
       "2         1       3                             Heikkinen, Miss. Laina    1   \n",
       "3         1       1       Futrelle, Mrs. Jacques Heath (Lily May Peel)    1   \n",
       "4         0       3                           Allen, Mr. William Henry    0   \n",
       "\n",
       "   SibSp  Parch  C  Q  S  FareBand  AgeBand  \n",
       "0      1      0  0  0  1         0      1.0  \n",
       "1      1      0  1  0  0         3      3.0  \n",
       "2      0      0  0  0  1         1      2.0  \n",
       "3      1      0  0  0  1         3      3.0  \n",
       "4      0      0  0  0  1         1      3.0  "
      ]
     },
     "execution_count": 115,
     "metadata": {},
     "output_type": "execute_result"
    }
   ],
   "source": [
    "print('Shape of train set:', train.shape)\n",
    "train.head()"
   ]
  },
  {
   "cell_type": "markdown",
   "metadata": {},
   "source": [
    "### Section 2.1.2 - 10-fold cross validation with Decision Trees"
   ]
  },
  {
   "cell_type": "code",
   "execution_count": 116,
   "metadata": {},
   "outputs": [],
   "source": [
    "from sklearn import tree\n",
    "from sklearn.tree import DecisionTreeClassifier\n",
    "from sklearn.model_selection import train_test_split, KFold"
   ]
  },
  {
   "cell_type": "markdown",
   "metadata": {},
   "source": [
    "**Here, we simply drop the rows with nan values, and the entire 'Name' column. Later, we will perform data imputation and feature engineering before comparing predictive performances.**"
   ]
  },
  {
   "cell_type": "code",
   "execution_count": 117,
   "metadata": {},
   "outputs": [],
   "source": [
    "ptrain = train.copy()"
   ]
  },
  {
   "cell_type": "code",
   "execution_count": 118,
   "metadata": {},
   "outputs": [],
   "source": [
    "nan_rows = ptrain[ptrain['AgeBand'].isna()].index\n",
    "ptrain = ptrain.drop(nan_rows)\n",
    "ptrain.reset_index(drop = True, inplace = True)"
   ]
  },
  {
   "cell_type": "code",
   "execution_count": 121,
   "metadata": {},
   "outputs": [
    {
     "name": "stdout",
     "output_type": "stream",
     "text": [
      "Shape of training set: (571, 9) (571,)\n",
      "Shape of test set: (143, 9) (143,)\n"
     ]
    }
   ],
   "source": [
    "X = ptrain.drop(['Survived','Name'], axis = 1)\n",
    "y = ptrain['Survived']\n",
    "X_train, X_test, y_train, y_test = train_test_split(X, y, test_size = 0.2, shuffle = True, random_state = 99)\n",
    "print('Shape of training set:', X_train.shape, y_train.shape)\n",
    "print('Shape of test set:', X_test.shape, y_test.shape)"
   ]
  },
  {
   "cell_type": "code",
   "execution_count": 122,
   "metadata": {
    "scrolled": true
   },
   "outputs": [
    {
     "name": "stdout",
     "output_type": "stream",
     "text": [
      "Training for max_depth: None , min_samples_split: 2 , min_samples_leaf: 1\n",
      "10-fold CV training score: 0.9073740338741363\n",
      "10-fold CV test score: 0.8020568663036902\n",
      "\n",
      "Training for max_depth: None , min_samples_split: 2 , min_samples_leaf: 2\n",
      "10-fold CV training score: 0.8940450997792795\n",
      "10-fold CV test score: 0.8055958862673928\n",
      "\n",
      "Training for max_depth: None , min_samples_split: 2 , min_samples_leaf: 3\n",
      "10-fold CV training score: 0.8872666064931748\n",
      "10-fold CV test score: 0.813198225448679\n",
      "\n",
      "Training for max_depth: None , min_samples_split: 2 , min_samples_leaf: 4\n",
      "10-fold CV training score: 0.8805211390993698\n",
      "10-fold CV test score: 0.8130671506352087\n",
      "\n",
      "Training for max_depth: None , min_samples_split: 3 , min_samples_leaf: 1\n",
      "10-fold CV training score: 0.8848409068499179\n",
      "10-fold CV test score: 0.8112159709618875\n",
      "\n",
      "Training for max_depth: None , min_samples_split: 3 , min_samples_leaf: 2\n",
      "10-fold CV training score: 0.8841534499890019\n",
      "10-fold CV test score: 0.8108691268400889\n",
      "\n",
      "Training for max_depth: None , min_samples_split: 3 , min_samples_leaf: 3\n",
      "10-fold CV training score: 0.8826614742649966\n",
      "10-fold CV test score: 0.8133739521216837\n",
      "\n",
      "Training for max_depth: None , min_samples_split: 3 , min_samples_leaf: 4\n",
      "10-fold CV training score: 0.8798643820966164\n",
      "10-fold CV test score: 0.8132864488808227\n",
      "\n",
      "Training for max_depth: None , min_samples_split: 4 , min_samples_leaf: 1\n",
      "10-fold CV training score: 0.8819480367344841\n",
      "10-fold CV test score: 0.812623512805001\n",
      "\n",
      "Training for max_depth: None , min_samples_split: 4 , min_samples_leaf: 2\n",
      "10-fold CV training score: 0.8818248496294782\n",
      "10-fold CV test score: 0.8122746521476101\n",
      "\n",
      "Training for max_depth: None , min_samples_split: 4 , min_samples_leaf: 3\n",
      "10-fold CV training score: 0.8810871014741588\n",
      "10-fold CV test score: 0.8137408568443049\n",
      "\n",
      "Training for max_depth: None , min_samples_split: 4 , min_samples_leaf: 4\n",
      "10-fold CV training score: 0.8793535710944751\n",
      "10-fold CV test score: 0.8136519459568461\n",
      "\n",
      "Training for max_depth: 1 , min_samples_split: 2 , min_samples_leaf: 1\n",
      "10-fold CV training score: 0.87192909524468\n",
      "10-fold CV test score: 0.8112708827772348\n",
      "\n",
      "Training for max_depth: 1 , min_samples_split: 2 , min_samples_leaf: 2\n",
      "10-fold CV training score: 0.8655652588019986\n",
      "10-fold CV test score: 0.8092299714804253\n",
      "\n",
      "Training for max_depth: 1 , min_samples_split: 2 , min_samples_leaf: 3\n",
      "10-fold CV training score: 0.860049933885008\n",
      "10-fold CV test score: 0.8074611816898568\n",
      "\n",
      "Training for max_depth: 1 , min_samples_split: 2 , min_samples_leaf: 4\n",
      "10-fold CV training score: 0.8552240245826411\n",
      "10-fold CV test score: 0.8059134906231094\n",
      "\n",
      "Training for max_depth: 1 , min_samples_split: 3 , min_samples_leaf: 1\n",
      "10-fold CV training score: 0.8509658693158472\n",
      "10-fold CV test score: 0.8045478808583323\n",
      "\n",
      "Training for max_depth: 1 , min_samples_split: 3 , min_samples_leaf: 2\n",
      "10-fold CV training score: 0.8471808424120301\n",
      "10-fold CV test score: 0.8033340055118638\n",
      "\n",
      "Training for max_depth: 1 , min_samples_split: 3 , min_samples_leaf: 3\n",
      "10-fold CV training score: 0.8437942393928253\n",
      "10-fold CV test score: 0.8022479065176553\n",
      "\n",
      "Training for max_depth: 1 , min_samples_split: 3 , min_samples_leaf: 4\n",
      "10-fold CV training score: 0.8407462966755412\n",
      "10-fold CV test score: 0.8012704174228673\n",
      "\n",
      "Training for max_depth: 1 , min_samples_split: 4 , min_samples_leaf: 1\n",
      "10-fold CV training score: 0.8379886342170458\n",
      "10-fold CV test score: 0.8003860225275833\n",
      "\n",
      "Training for max_depth: 1 , min_samples_split: 4 , min_samples_leaf: 2\n",
      "10-fold CV training score: 0.8354816683456864\n",
      "10-fold CV test score: 0.7995820271682339\n",
      "\n",
      "Training for max_depth: 1 , min_samples_split: 4 , min_samples_leaf: 3\n",
      "10-fold CV training score: 0.8331926995066193\n",
      "10-fold CV test score: 0.7988479444488281\n",
      "\n",
      "Training for max_depth: 1 , min_samples_split: 4 , min_samples_leaf: 4\n",
      "10-fold CV training score: 0.8310944780708077\n",
      "10-fold CV test score: 0.7981750352893727\n",
      "\n",
      "Training for max_depth: 2 , min_samples_split: 2 , min_samples_leaf: 1\n",
      "10-fold CV training score: 0.8303551247335806\n",
      "10-fold CV test score: 0.7987562008469449\n",
      "\n",
      "Training for max_depth: 2 , min_samples_split: 2 , min_samples_leaf: 2\n",
      "10-fold CV training score: 0.8296726447299866\n",
      "10-fold CV test score: 0.7992926613616268\n",
      "\n",
      "Training for max_depth: 2 , min_samples_split: 2 , min_samples_leaf: 3\n",
      "10-fold CV training score: 0.8290407188007329\n",
      "10-fold CV test score: 0.7997893840604066\n",
      "\n",
      "Training for max_depth: 2 , min_samples_split: 2 , min_samples_leaf: 4\n",
      "10-fold CV training score: 0.8284539304378543\n",
      "10-fold CV test score: 0.8002506265664161\n",
      "\n",
      "Training for max_depth: 2 , min_samples_split: 3 , min_samples_leaf: 1\n",
      "10-fold CV training score: 0.8279076102379328\n",
      "10-fold CV test score: 0.800680059244425\n",
      "\n",
      "Training for max_depth: 2 , min_samples_split: 3 , min_samples_leaf: 2\n",
      "10-fold CV training score: 0.8273977113846729\n",
      "10-fold CV test score: 0.8010808630772333\n",
      "\n",
      "Training for max_depth: 2 , min_samples_split: 3 , min_samples_leaf: 3\n",
      "10-fold CV training score: 0.8269207092316233\n",
      "10-fold CV test score: 0.8014558085982474\n",
      "\n",
      "Training for max_depth: 2 , min_samples_split: 3 , min_samples_leaf: 4\n",
      "10-fold CV training score: 0.8264735197131394\n",
      "10-fold CV test score: 0.8018073200241982\n",
      "\n",
      "Training for max_depth: 2 , min_samples_split: 4 , min_samples_leaf: 1\n",
      "10-fold CV training score: 0.8260534325897149\n",
      "10-fold CV test score: 0.8021375277273644\n",
      "\n",
      "Training for max_depth: 2 , min_samples_split: 4 , min_samples_leaf: 2\n",
      "10-fold CV training score: 0.825658056473551\n",
      "10-fold CV test score: 0.8024483114479911\n",
      "\n",
      "Training for max_depth: 2 , min_samples_split: 4 , min_samples_leaf: 3\n",
      "10-fold CV training score: 0.8252852732783104\n",
      "10-fold CV test score: 0.8027413360988677\n",
      "\n",
      "Training for max_depth: 2 , min_samples_split: 4 , min_samples_leaf: 4\n",
      "10-fold CV training score: 0.8249332002605834\n",
      "10-fold CV test score: 0.8030180816024738\n",
      "\n",
      "Training for max_depth: 3 , min_samples_split: 2 , min_samples_leaf: 1\n",
      "10-fold CV training score: 0.824752645334255\n",
      "10-fold CV test score: 0.8028057095207729\n",
      "\n",
      "Training for max_depth: 3 , min_samples_split: 2 , min_samples_leaf: 2\n",
      "10-fold CV training score: 0.8245815932987863\n",
      "10-fold CV test score: 0.8026045149170565\n",
      "\n",
      "Training for max_depth: 3 , min_samples_split: 2 , min_samples_leaf: 3\n",
      "10-fold CV training score: 0.8244193131625721\n",
      "10-fold CV test score: 0.8024136379853256\n",
      "\n",
      "Training for max_depth: 3 , min_samples_split: 2 , min_samples_leaf: 4\n",
      "10-fold CV training score: 0.8242651470331688\n",
      "10-fold CV test score: 0.8022323049001814\n",
      "\n",
      "Training for max_depth: 3 , min_samples_split: 3 , min_samples_leaf: 1\n",
      "10-fold CV training score: 0.8241185012027608\n",
      "10-fold CV test score: 0.8020598173313855\n",
      "\n",
      "Training for max_depth: 3 , min_samples_split: 3 , min_samples_leaf: 2\n",
      "10-fold CV training score: 0.823978838507134\n",
      "10-fold CV test score: 0.801895543456342\n",
      "\n",
      "Training for max_depth: 3 , min_samples_split: 3 , min_samples_leaf: 3\n",
      "10-fold CV training score: 0.8238456717508389\n",
      "10-fold CV test score: 0.8017389102266491\n",
      "\n",
      "Training for max_depth: 3 , min_samples_split: 3 , min_samples_leaf: 4\n",
      "10-fold CV training score: 0.8237185580289206\n",
      "10-fold CV test score: 0.8015893966892154\n",
      "\n",
      "Training for max_depth: 3 , min_samples_split: 4 , min_samples_leaf: 1\n",
      "10-fold CV training score: 0.8235970938057544\n",
      "10-fold CV test score: 0.8014465281978894\n",
      "\n",
      "Training for max_depth: 3 , min_samples_split: 4 , min_samples_leaf: 2\n",
      "10-fold CV training score: 0.8234809106357693\n",
      "10-fold CV test score: 0.8013098713800995\n",
      "\n",
      "Training for max_depth: 3 , min_samples_split: 4 , min_samples_leaf: 3\n",
      "10-fold CV training score: 0.8233696714304645\n",
      "10-fold CV test score: 0.8011790297460452\n",
      "\n",
      "Training for max_depth: 3 , min_samples_split: 4 , min_samples_leaf: 4\n",
      "10-fold CV training score: 0.8232630671920471\n",
      "10-fold CV test score: 0.8010536398467433\n",
      "\n",
      "Training for max_depth: 4 , min_samples_split: 2 , min_samples_leaf: 1\n",
      "10-fold CV training score: 0.8234626697061969\n",
      "10-fold CV test score: 0.8012914058545378\n",
      "\n",
      "Training for max_depth: 4 , min_samples_split: 2 , min_samples_leaf: 2\n",
      "10-fold CV training score: 0.8236426149680297\n",
      "10-fold CV test score: 0.8015547489413188\n",
      "\n",
      "Training for max_depth: 4 , min_samples_split: 2 , min_samples_leaf: 3\n",
      "10-fold CV training score: 0.8238155035529281\n",
      "10-fold CV test score: 0.801807764848226\n",
      "\n",
      "Training for max_depth: 4 , min_samples_split: 2 , min_samples_leaf: 4\n",
      "10-fold CV training score: 0.8239780011820766\n",
      "10-fold CV test score: 0.8020173111824653\n",
      "\n",
      "Training for max_depth: 4 , min_samples_split: 3 , min_samples_leaf: 1\n"
     ]
    },
    {
     "name": "stdout",
     "output_type": "stream",
     "text": [
      "10-fold CV training score: 0.8241490500349693\n",
      "10-fold CV test score: 0.8022189501078656\n",
      "\n",
      "Training for max_depth: 4 , min_samples_split: 3 , min_samples_leaf: 2\n",
      "10-fold CV training score: 0.8243029552713187\n",
      "10-fold CV test score: 0.8024456095538975\n",
      "\n",
      "Training for max_depth: 4 , min_samples_split: 3 , min_samples_leaf: 3\n",
      "10-fold CV training score: 0.824451263953619\n",
      "10-fold CV test score: 0.8026640268382556\n",
      "\n",
      "Training for max_depth: 4 , min_samples_split: 3 , min_samples_leaf: 4\n",
      "10-fold CV training score: 0.824590801744959\n",
      "10-fold CV test score: 0.802843315184513\n",
      "\n",
      "Training for max_depth: 4 , min_samples_split: 4 , min_samples_leaf: 1\n",
      "10-fold CV training score: 0.8247390962825103\n",
      "10-fold CV test score: 0.8030163127116036\n",
      "\n",
      "Training for max_depth: 4 , min_samples_split: 4 , min_samples_leaf: 2\n",
      "10-fold CV training score: 0.8248722141534642\n",
      "10-fold CV test score: 0.8032135928406033\n",
      "\n",
      "Training for max_depth: 4 , min_samples_split: 4 , min_samples_leaf: 3\n",
      "10-fold CV training score: 0.8250008195542163\n",
      "10-fold CV test score: 0.8034041855076028\n",
      "\n",
      "Training for max_depth: 4 , min_samples_split: 4 , min_samples_leaf: 4\n",
      "10-fold CV training score: 0.8251218955661238\n",
      "10-fold CV test score: 0.8035591853196209\n",
      "\n"
     ]
    }
   ],
   "source": [
    "max_depth = [None,1,2,3,4]\n",
    "min_samples_split = [2,3,4]\n",
    "min_samples_leaf = [1,2,3,4]\n",
    "K = 10\n",
    "\n",
    "kf = KFold(n_splits = K)\n",
    "opt_depth = np.nan\n",
    "opt_split = np.nan\n",
    "opt_leaf = np.nan\n",
    "best_score = 0\n",
    "val_list = []\n",
    "train_list = []\n",
    "\n",
    "for depth in max_depth:\n",
    "    for split in min_samples_split:\n",
    "        for leaf in min_samples_leaf:\n",
    "            print('Training for max_depth:', depth, ', min_samples_split:',\\\n",
    "                  split, ', min_samples_leaf:', leaf)\n",
    "            clf = DecisionTreeClassifier(random_state = 0, max_depth = depth,\\\n",
    "                                            min_samples_split = split,\\\n",
    "                                            min_samples_leaf = leaf)\n",
    "            \n",
    "            for train_index, test_index in kf.split(X_train):\n",
    "                X, X_val = np.asarray(X_train)[train_index], np.asarray(X_train)[test_index]\n",
    "                y, y_val = np.asarray(y_train)[train_index], np.asarray(y_train)[test_index]\n",
    "                clf.fit(X, y)\n",
    "                train_list.append(clf.score(X,y))\n",
    "                val_list.append(clf.score(X_val,y_val))\n",
    "                \n",
    "            train_score = np.mean(train_list)\n",
    "            val_score = np.mean(val_list)\n",
    "            \n",
    "        \n",
    "            print('10-fold CV training score:', train_score)\n",
    "            print('10-fold CV test score:', val_score)\n",
    "            print()\n",
    "            \n",
    "            if val_score > best_score:\n",
    "                opt_depth = depth\n",
    "                opt_split = split\n",
    "                opt_leaf = leaf\n",
    "                best_score = val_score"
   ]
  },
  {
   "cell_type": "code",
   "execution_count": 123,
   "metadata": {},
   "outputs": [
    {
     "name": "stdout",
     "output_type": "stream",
     "text": [
      "Optimal max_depth: None\n",
      "Optimal min_samples_split: 4\n",
      "Optimal min_samples_leaf: 3\n",
      "Best 10-fold CV test score: 0.8035591853196209\n"
     ]
    }
   ],
   "source": [
    "print('Optimal max_depth:', opt_depth)\n",
    "print('Optimal min_samples_split:', opt_split)\n",
    "print('Optimal min_samples_leaf:', opt_leaf)\n",
    "print('Best 10-fold CV test score:', val_score)"
   ]
  },
  {
   "cell_type": "code",
   "execution_count": 125,
   "metadata": {},
   "outputs": [
    {
     "name": "stdout",
     "output_type": "stream",
     "text": [
      "Train score: 0.8756567425569177\n",
      "Held-out test score: 0.7272727272727273\n"
     ]
    }
   ],
   "source": [
    "clf = DecisionTreeClassifier(random_state = 0, max_depth = opt_depth,\\\n",
    "                        min_samples_split = opt_split,\\\n",
    "                        min_samples_leaf = opt_leaf) \n",
    "clf.fit(X_train, y_train)\n",
    "train_score = np.mean(clf.score(X_train, y_train))\n",
    "test_score = np.mean(clf.score(X_test, y_test))\n",
    "print('Train score:', train_score)\n",
    "print('Held-out test score:', test_score)"
   ]
  },
  {
   "cell_type": "code",
   "execution_count": 293,
   "metadata": {
    "collapsed": true
   },
   "outputs": [
    {
     "name": "stdout",
     "output_type": "stream",
     "text": [
      "<pydotplus.graphviz.Dot object at 0x000002210AA1DEB8>\n"
     ]
    },
    {
     "ename": "InvocationException",
     "evalue": "GraphViz's executables not found",
     "output_type": "error",
     "traceback": [
      "\u001b[1;31m---------------------------------------------------------------------------\u001b[0m",
      "\u001b[1;31mInvocationException\u001b[0m                       Traceback (most recent call last)",
      "\u001b[1;32m<ipython-input-293-645cccf600ee>\u001b[0m in \u001b[0;36m<module>\u001b[1;34m()\u001b[0m\n\u001b[0;32m     12\u001b[0m \u001b[0mgraph\u001b[0m \u001b[1;33m=\u001b[0m \u001b[0mpydotplus\u001b[0m\u001b[1;33m.\u001b[0m\u001b[0mgraph_from_dot_data\u001b[0m\u001b[1;33m(\u001b[0m\u001b[0mdot_data\u001b[0m\u001b[1;33m.\u001b[0m\u001b[0mgetvalue\u001b[0m\u001b[1;33m(\u001b[0m\u001b[1;33m)\u001b[0m\u001b[1;33m)\u001b[0m\u001b[1;33m\u001b[0m\u001b[0m\n\u001b[0;32m     13\u001b[0m \u001b[0mprint\u001b[0m\u001b[1;33m(\u001b[0m\u001b[0mgraph\u001b[0m\u001b[1;33m)\u001b[0m\u001b[1;33m\u001b[0m\u001b[0m\n\u001b[1;32m---> 14\u001b[1;33m \u001b[0mImage\u001b[0m\u001b[1;33m(\u001b[0m\u001b[0mgraph\u001b[0m\u001b[1;33m.\u001b[0m\u001b[0mcreate_png\u001b[0m\u001b[1;33m(\u001b[0m\u001b[1;33m)\u001b[0m\u001b[1;33m)\u001b[0m\u001b[1;33m\u001b[0m\u001b[0m\n\u001b[0m",
      "\u001b[1;32mD:\\Users\\Jonathan\\Anaconda3\\lib\\site-packages\\pydotplus\\graphviz.py\u001b[0m in \u001b[0;36m<lambda>\u001b[1;34m(f, prog)\u001b[0m\n\u001b[0;32m   1795\u001b[0m             self.__setattr__(\n\u001b[0;32m   1796\u001b[0m                 \u001b[1;34m'create_'\u001b[0m \u001b[1;33m+\u001b[0m \u001b[0mfrmt\u001b[0m\u001b[1;33m,\u001b[0m\u001b[1;33m\u001b[0m\u001b[0m\n\u001b[1;32m-> 1797\u001b[1;33m                 \u001b[1;32mlambda\u001b[0m \u001b[0mf\u001b[0m\u001b[1;33m=\u001b[0m\u001b[0mfrmt\u001b[0m\u001b[1;33m,\u001b[0m \u001b[0mprog\u001b[0m\u001b[1;33m=\u001b[0m\u001b[0mself\u001b[0m\u001b[1;33m.\u001b[0m\u001b[0mprog\u001b[0m\u001b[1;33m:\u001b[0m \u001b[0mself\u001b[0m\u001b[1;33m.\u001b[0m\u001b[0mcreate\u001b[0m\u001b[1;33m(\u001b[0m\u001b[0mformat\u001b[0m\u001b[1;33m=\u001b[0m\u001b[0mf\u001b[0m\u001b[1;33m,\u001b[0m \u001b[0mprog\u001b[0m\u001b[1;33m=\u001b[0m\u001b[0mprog\u001b[0m\u001b[1;33m)\u001b[0m\u001b[1;33m\u001b[0m\u001b[0m\n\u001b[0m\u001b[0;32m   1798\u001b[0m             )\n\u001b[0;32m   1799\u001b[0m             \u001b[0mf\u001b[0m \u001b[1;33m=\u001b[0m \u001b[0mself\u001b[0m\u001b[1;33m.\u001b[0m\u001b[0m__dict__\u001b[0m\u001b[1;33m[\u001b[0m\u001b[1;34m'create_'\u001b[0m \u001b[1;33m+\u001b[0m \u001b[0mfrmt\u001b[0m\u001b[1;33m]\u001b[0m\u001b[1;33m\u001b[0m\u001b[0m\n",
      "\u001b[1;32mD:\\Users\\Jonathan\\Anaconda3\\lib\\site-packages\\pydotplus\\graphviz.py\u001b[0m in \u001b[0;36mcreate\u001b[1;34m(self, prog, format)\u001b[0m\n\u001b[0;32m   1958\u001b[0m             \u001b[1;32mif\u001b[0m \u001b[0mself\u001b[0m\u001b[1;33m.\u001b[0m\u001b[0mprogs\u001b[0m \u001b[1;32mis\u001b[0m \u001b[1;32mNone\u001b[0m\u001b[1;33m:\u001b[0m\u001b[1;33m\u001b[0m\u001b[0m\n\u001b[0;32m   1959\u001b[0m                 raise InvocationException(\n\u001b[1;32m-> 1960\u001b[1;33m                     'GraphViz\\'s executables not found')\n\u001b[0m\u001b[0;32m   1961\u001b[0m \u001b[1;33m\u001b[0m\u001b[0m\n\u001b[0;32m   1962\u001b[0m         \u001b[1;32mif\u001b[0m \u001b[0mprog\u001b[0m \u001b[1;32mnot\u001b[0m \u001b[1;32min\u001b[0m \u001b[0mself\u001b[0m\u001b[1;33m.\u001b[0m\u001b[0mprogs\u001b[0m\u001b[1;33m:\u001b[0m\u001b[1;33m\u001b[0m\u001b[0m\n",
      "\u001b[1;31mInvocationException\u001b[0m: GraphViz's executables not found"
     ]
    }
   ],
   "source": [
    "from sklearn.externals.six import StringIO  \n",
    "from IPython.display import Image  \n",
    "from sklearn.tree import export_graphviz\n",
    "import pydotplus\n",
    "import graphviz\n",
    "\n",
    "tree.export_graphviz(clf, out_file='tree.dot')  \n",
    "dot_data = StringIO() \n",
    "tree.export_graphviz(clf, out_file=dot_data) \n",
    "graph = pydotplus.graph_from_dot_data(dot_data.getvalue()) \n",
    "print(graph)\n",
    "Image(graph.create_png())"
   ]
  },
  {
   "cell_type": "markdown",
   "metadata": {},
   "source": [
    "**Section 2.1**\n",
    "\n",
    "**Answers:**\n",
    "\n",
    "To determine the optimal parameters for the decision tree, we compared the 10-fold validation scores of trees grown using different parameters: max_depth = [None,1,2,3,4], min_samples_split = [2,3,4], and min_samples_leaf = [1,2,3,4]. The optimal set of parameters was determined to be: max_depth = None, min_samples_split = 4, min_samples_leaf = 3, which gave a 10-fold validation score of about 80.4%. \n",
    "\n",
    "Training a new decision tree on the entire training set using these parameter values, we obtained a training score of about 87.6% and a held-out test score of about 72.7%. "
   ]
  },
  {
   "cell_type": "markdown",
   "metadata": {},
   "source": [
    "### 2.2 Tree tuning\n",
    "\n",
    "Use all of the data (minus the held-out data) to re-fit a single decision tree with max_depth = 4 (i.e., no cross-validation). Show the tree diagram and also plot the feature importances. What do you observe?"
   ]
  },
  {
   "cell_type": "code",
   "execution_count": 127,
   "metadata": {},
   "outputs": [
    {
     "name": "stdout",
     "output_type": "stream",
     "text": [
      "Train score: 0.8353765323992994\n",
      "Held-out test score: 0.7272727272727273\n"
     ]
    },
    {
     "data": {
      "text/plain": [
       "Text(0,0.5,'Gini Importance')"
      ]
     },
     "execution_count": 127,
     "metadata": {},
     "output_type": "execute_result"
    },
    {
     "data": {
      "image/png": "[encoded data removed]",
      "text/plain": [
       "<matplotlib.figure.Figure at 0x1d28b4d5cf8>"
      ]
     },
     "metadata": {},
     "output_type": "display_data"
    }
   ],
   "source": [
    "clf = DecisionTreeClassifier(random_state = 0, max_depth = 4, min_samples_split = opt_split,\\\n",
    "                        min_samples_leaf = opt_leaf)\n",
    "clf.fit(X_train, y_train)\n",
    "train_score = np.mean(clf.score(X_train, y_train))\n",
    "test_score = np.mean(clf.score(X_test, y_test))\n",
    "print('Train score:', train_score)\n",
    "print('Held-out test score:', test_score)\n",
    "gini_importance = pd.DataFrame(clf.feature_importances_, index = X_train.columns, columns = ['Gini importance'])\n",
    "\n",
    "plt.figure(figsize = (15,8))\n",
    "plt.bar(gini_importance.index, gini_importance['Gini importance'], color = 'lightblue')\n",
    "plt.title('Gini Importances of Features', fontsize = 18)\n",
    "plt.xlabel('Feature', fontsize = 18)\n",
    "plt.ylabel('Gini Importance', fontsize = 18)"
   ]
  },
  {
   "cell_type": "markdown",
   "metadata": {},
   "source": [
    "**Section 2.2**\n",
    "\n",
    "**Answers:**\n",
    "\n",
    "A single decision tree with max_depth = 4 was trained using all training data available, giving a train score of about 83.5% and a held-out test score of about 72.7%. By changing the max_depth from 'None' to '4', we have limited the decision tree's tendency to overfit, and have obtained a lower train score. While we expected to see a slight improvement in held-out test score, it remained roughly the same.\n",
    "\n",
    "Moreover, looking at the Gini importances of all features, it appears that the two variables 'Sex' and 'Pclass' are the most important indicators of survivability. Other less significant factors include 'SibSp', the newly created 'AgeBand' and 'Fareband' variables. Also, we note that the 'Embarked' variable has almost no impact on survivability. "
   ]
  },
  {
   "cell_type": "markdown",
   "metadata": {},
   "source": [
    "### 2.3 Sensitivity analysis\n",
    "The built-in algorithm you are using has several parameters which you can tune. Using cross-validation, show how the choice of these parameters affects performance.\n",
    "\n",
    "First, show how max_depth affects train and test accuracy. On a single axis, plot train and test accuracy as a function of max_depth. Use a red line to show test accuracy and a blue line to show train accuracy. Do not use your held-out test data.\n",
    "\n",
    "Second, show how test accuracy relates to both max_depth and min_samples_leaf. Specifically, create a 3-D plot where the x-axis is max_depth, the y-axis is min_samples_leaf, and the z-axis shows accuracy. What combination of max_depth and min-samples_leaf achieves the highest accuracy? How sensitive are the results to these two parameters?"
   ]
  },
  {
   "cell_type": "code",
   "execution_count": 128,
   "metadata": {
    "scrolled": true
   },
   "outputs": [
    {
     "name": "stdout",
     "output_type": "stream",
     "text": [
      "Training for max_depth: 1\n",
      "10-fold CV training score: 0.8244286740822061\n",
      "10-fold CV test score: 0.8032172007180188\n",
      "\n",
      "Training for max_depth: 2\n",
      "10-fold CV training score: 0.8242380607041081\n",
      "10-fold CV test score: 0.8033702164198036\n",
      "\n",
      "Training for max_depth: 3\n",
      "10-fold CV training score: 0.8241430544704944\n",
      "10-fold CV test score: 0.8032399005175774\n",
      "\n",
      "Training for max_depth: 4\n",
      "10-fold CV training score: 0.8242821253441646\n",
      "10-fold CV test score: 0.8033877797943132\n",
      "\n",
      "Training for max_depth: 5\n",
      "10-fold CV training score: 0.8245965215676458\n",
      "10-fold CV test score: 0.8037200428126018\n",
      "\n",
      "Training for max_depth: 6\n",
      "10-fold CV training score: 0.8251313623182011\n",
      "10-fold CV test score: 0.8036700947771727\n",
      "\n",
      "Training for max_depth: 7\n",
      "10-fold CV training score: 0.8258651505482576\n",
      "10-fold CV test score: 0.8035430831324322\n",
      "\n",
      "Training for max_depth: 8\n",
      "10-fold CV training score: 0.8267633651408092\n",
      "10-fold CV test score: 0.8034189174762463\n",
      "\n",
      "Training for max_depth: 9\n",
      "10-fold CV training score: 0.82777654111029\n",
      "10-fold CV test score: 0.8032470606801863\n",
      "\n",
      "Training for max_depth: 10\n",
      "10-fold CV training score: 0.8288413857817913\n",
      "10-fold CV test score: 0.8031799325900959\n",
      "\n",
      "Training for max_depth: None\n",
      "10-fold CV training score: 0.8299474794168946\n",
      "10-fold CV test score: 0.8031641147550762\n",
      "\n"
     ]
    }
   ],
   "source": [
    "max_depth = [1,2,3,4,5,6,7,8,9,10,None]\n",
    "K = 10\n",
    "\n",
    "kf = KFold(n_splits = K)\n",
    "train_score = []\n",
    "val_score = []\n",
    "\n",
    "for depth in max_depth:\n",
    "    print('Training for max_depth:', depth)\n",
    "    clf = DecisionTreeClassifier(random_state = 0, max_depth = depth)\n",
    "    for train_index, test_index in kf.split(X_train):\n",
    "        X, X_val = np.asarray(X_train)[train_index], np.asarray(X_train)[test_index]\n",
    "        y, y_val = np.asarray(y_train)[train_index], np.asarray(y_train)[test_index]\n",
    "        clf.fit(X, y)\n",
    "        train_list.append(clf.score(X,y))\n",
    "        val_list.append(clf.score(X_val,y_val))\n",
    "\n",
    "    train_score.append(np.mean(train_list))\n",
    "    val_score.append(np.mean(val_list))\n",
    "\n",
    "\n",
    "    print('10-fold CV training score:', np.mean(train_list))\n",
    "    print('10-fold CV test score:', np.mean(val_list))\n",
    "    print()"
   ]
  },
  {
   "cell_type": "code",
   "execution_count": 129,
   "metadata": {
    "scrolled": false
   },
   "outputs": [
    {
     "data": {
      "text/plain": [
       "<matplotlib.legend.Legend at 0x1d28a549710>"
      ]
     },
     "execution_count": 129,
     "metadata": {},
     "output_type": "execute_result"
    },
    {
     "data": {
      "image/png": "[encoded data removed]",
      "text/plain": [
       "<matplotlib.figure.Figure at 0x1d28b4d5f60>"
      ]
     },
     "metadata": {},
     "output_type": "display_data"
    }
   ],
   "source": [
    "fig, ax = plt.subplots(figsize = (14,8))\n",
    "plt.plot(train_score, color = 'blue')\n",
    "plt.plot(val_score, color = 'red')\n",
    "\n",
    "x = [i for i in range(len(max_depth))]\n",
    "plt.xticks(x, max_depth)\n",
    "ax.set_xlabel('Maximum Depth', fontsize = 14)\n",
    "ax.set_ylabel('Accuracy', fontsize = 14)\n",
    "ax.set_title('Training and Validation Accuracies against Maximum Depth', fontsize = 14)\n",
    "ax.legend(['Train Accuracy', 'Validation Accuracy'], fontsize = 14)"
   ]
  },
  {
   "cell_type": "code",
   "execution_count": 130,
   "metadata": {
    "scrolled": true
   },
   "outputs": [],
   "source": [
    "max_depth = list(range(1,21))\n",
    "min_samples_leaf = list(range(1,21))\n",
    "K = 10\n",
    "\n",
    "kf = KFold(n_splits = K)\n",
    "train_score = []\n",
    "val_score = []\n",
    "\n",
    "for depth in max_depth:\n",
    "    for leaf in min_samples_leaf:\n",
    "        #print('Training for max_depth:', depth, ', min_samples_leaf:', leaf)\n",
    "        clf = DecisionTreeClassifier(random_state = 0, max_depth = depth, min_samples_leaf = leaf)\n",
    "        for train_index, test_index in kf.split(X_train):\n",
    "            X, X_val = np.asarray(X_train)[train_index], np.asarray(X_train)[test_index]\n",
    "            y, y_val = np.asarray(y_train)[train_index], np.asarray(y_train)[test_index]\n",
    "            clf.fit(X, y)\n",
    "            train_list.append(clf.score(X,y))\n",
    "            val_list.append(clf.score(X_val,y_val))\n",
    "\n",
    "        train_score.append(np.mean(train_list))\n",
    "        val_score.append(np.mean(val_list))"
   ]
  },
  {
   "cell_type": "code",
   "execution_count": 135,
   "metadata": {
    "scrolled": false
   },
   "outputs": [
    {
     "data": {
      "image/png": "[encoded data removed]",
      "text/plain": [
       "<matplotlib.figure.Figure at 0x1d28b92bfd0>"
      ]
     },
     "metadata": {},
     "output_type": "display_data"
    }
   ],
   "source": [
    "import matplotlib.pyplot as plt\n",
    "from mpl_toolkits.mplot3d import Axes3D\n",
    "\n",
    "Z = np.asarray(val_score).reshape(len(max_depth),len(min_samples_leaf))\n",
    "X = np.asarray((max_depth * 20)).reshape(len(min_samples_leaf),len(max_depth))\n",
    "Y = np.asarray((min_samples_leaf * 20)).reshape(len(min_samples_leaf),len(max_depth)).T\n",
    "\n",
    "fig = plt.figure(figsize = (15,8))\n",
    "ax = fig.add_subplot(111, projection='3d')\n",
    "\n",
    "surf = ax.plot_surface(X, Y, Z.T, cmap='viridis')\n",
    "fig.colorbar(surf, shrink=0.5, aspect=5)\n",
    "ax.view_init(40)\n",
    "plt.show()"
   ]
  },
  {
   "cell_type": "markdown",
   "metadata": {},
   "source": [
    "**Section 2.3**\n",
    "\n",
    "**Answers:**\n",
    "\n",
    "Note that for this part, the held-out test set was not used at all, as required by the question.\n",
    "\n",
    "We trained the decision tree on different max_depth values in the range [1,2,3,4,5,6,7,8,9,10,None], and plotted both the train and validation accuracies as a function of max_depth. As max_depth increases, there is a brief decrease in train accuracy up till max_depth = 3 before a steady increase in train accuracy (in blue). However, the validation (test) accuracy (in red) stays approximately the same as max_depth increases. \n",
    "\n",
    "In the second part, we studied how the validation (test) accuracy varies with both max_depth and min_samples_leaf. The range max_depth = list(range(1,21)) and min_samples_leaf = list(range(1,21)) were used. Next, a 3-D plot where the x-axis is max_depth, the y-axis is min_samples_leaf, and the z-axis shows accuracy, was plotted. \n",
    "\n",
    "It is noted that as we increase max_depth, there is a slight drop in validation (test) accuracy before we experience a general increase in validation (test) accuracy. As for min_samples_leaf, we do not see any significant change in validation (test) accuracy as we increase it in the range(1,21), unless if this is done when max_depth takes on a low value (2 and below). \n",
    "\n",
    "As such, we conclude that results are sensitive to max_depth, but not as sensitive to min_samples_leaf. The best combination of max_depth = 20 and min_samples_leaf = 20, which gives us a validation (test) accuracy of about 80.7%. \n",
    "\n",
    "It must, however, be noted that the \"optimal\" value of min_samples_leaf might not be conclusive in this case because the difference in validation (test) accuracy for different values of min_samples_leaf is very minimal. Small differences due to random selecton of data might have masked the 'true differences' between using various values of min_samples_leaf. "
   ]
  },
  {
   "cell_type": "markdown",
   "metadata": {},
   "source": [
    "### 2.4 Logistic Regression, for comparison\n",
    "Use a 10-fold cross-validated logistic regression predict survival. Make sure you come up with an appropriate way of handling each of the input variables before feeding them in to the regression. \n",
    "* How does the cross-validated test performance of this model compare to the decision tree?\n",
    "* How do the coefficients from the logistic regression compare to the feature importances from the decision tree? Create a scatter plot that shows this relationship (one dot for each variable, y-axis is feature importance, x-axis is....?)"
   ]
  },
  {
   "cell_type": "code",
   "execution_count": 137,
   "metadata": {},
   "outputs": [
    {
     "name": "stdout",
     "output_type": "stream",
     "text": [
      "10-fold train score: 0.8347690139470771\n",
      "10-fold validation score: 0.8071242450808493\n",
      "Held-out test score: 0.7692307692307693\n"
     ]
    }
   ],
   "source": [
    "from sklearn.linear_model import LogisticRegression\n",
    "\n",
    "K = 10\n",
    "kf = KFold(n_splits = K)\n",
    "\n",
    "logreg = LogisticRegression(penalty = 'l2', random_state = 0)\n",
    "for train_index, test_index in kf.split(X_train):\n",
    "    X, X_val = np.asarray(X_train)[train_index], np.asarray(X_train)[test_index]\n",
    "    y, y_val = np.asarray(y_train)[train_index], np.asarray(y_train)[test_index]\n",
    "    logreg.fit(X, y)\n",
    "    train_list.append(logreg.score(X,y))\n",
    "    val_list.append(logreg.score(X_val,y_val))\n",
    "\n",
    "print('10-fold train score:', np.mean(train_list))\n",
    "print('10-fold validation score:', np.mean(val_list))\n",
    "print('Held-out test score:', logreg.score(X_test, y_test))"
   ]
  },
  {
   "cell_type": "code",
   "execution_count": 142,
   "metadata": {},
   "outputs": [
    {
     "data": {
      "text/plain": [
       "Text(0.5,1,'Logistic Regression Coefficient against Gini Importance')"
      ]
     },
     "execution_count": 142,
     "metadata": {},
     "output_type": "execute_result"
    },
    {
     "data": {
      "image/png": "[encoded data removed]",
      "text/plain": [
       "<matplotlib.figure.Figure at 0x1d28ca4f1d0>"
      ]
     },
     "metadata": {},
     "output_type": "display_data"
    }
   ],
   "source": [
    "fig, ax = plt.subplots(figsize = (14,6))\n",
    "plt.scatter(abs(logreg.coef_), gini_importance['Gini importance'], marker = 'x')\n",
    "\n",
    "ax.set_xlabel('Feature Logistic Regression Coefficient (Magnitude)', fontsize = 14)\n",
    "ax.set_ylabel('Feature Gini Importance', fontsize = 14)\n",
    "ax.set_title('Logistic Regression Coefficient against Gini Importance', fontsize = 14)"
   ]
  },
  {
   "cell_type": "code",
   "execution_count": 140,
   "metadata": {},
   "outputs": [
    {
     "data": {
      "text/html": [
       "<div>\n",
       "<style scoped>\n",
       "    .dataframe tbody tr th:only-of-type {\n",
       "        vertical-align: middle;\n",
       "    }\n",
       "\n",
       "    .dataframe tbody tr th {\n",
       "        vertical-align: top;\n",
       "    }\n",
       "\n",
       "    .dataframe thead th {\n",
       "        text-align: right;\n",
       "    }\n",
       "</style>\n",
       "<table border=\"1\" class=\"dataframe\">\n",
       "  <thead>\n",
       "    <tr style=\"text-align: right;\">\n",
       "      <th></th>\n",
       "      <th>Log Reg Coef</th>\n",
       "      <th>Gini Importance</th>\n",
       "    </tr>\n",
       "  </thead>\n",
       "  <tbody>\n",
       "    <tr>\n",
       "      <th>Pclass</th>\n",
       "      <td>-0.844231</td>\n",
       "      <td>0.276294</td>\n",
       "    </tr>\n",
       "    <tr>\n",
       "      <th>Sex</th>\n",
       "      <td>2.457091</td>\n",
       "      <td>0.575307</td>\n",
       "    </tr>\n",
       "    <tr>\n",
       "      <th>SibSp</th>\n",
       "      <td>-0.480580</td>\n",
       "      <td>0.017251</td>\n",
       "    </tr>\n",
       "    <tr>\n",
       "      <th>Parch</th>\n",
       "      <td>-0.143944</td>\n",
       "      <td>0.019019</td>\n",
       "    </tr>\n",
       "    <tr>\n",
       "      <th>C</th>\n",
       "      <td>0.251434</td>\n",
       "      <td>0.000000</td>\n",
       "    </tr>\n",
       "    <tr>\n",
       "      <th>Q</th>\n",
       "      <td>-0.019037</td>\n",
       "      <td>0.000000</td>\n",
       "    </tr>\n",
       "    <tr>\n",
       "      <th>S</th>\n",
       "      <td>0.081724</td>\n",
       "      <td>0.000000</td>\n",
       "    </tr>\n",
       "    <tr>\n",
       "      <th>FareBand</th>\n",
       "      <td>0.331096</td>\n",
       "      <td>0.066328</td>\n",
       "    </tr>\n",
       "    <tr>\n",
       "      <th>AgeBand</th>\n",
       "      <td>-0.175898</td>\n",
       "      <td>0.045801</td>\n",
       "    </tr>\n",
       "  </tbody>\n",
       "</table>\n",
       "</div>"
      ],
      "text/plain": [
       "          Log Reg Coef  Gini Importance\n",
       "Pclass       -0.844231         0.276294\n",
       "Sex           2.457091         0.575307\n",
       "SibSp        -0.480580         0.017251\n",
       "Parch        -0.143944         0.019019\n",
       "C             0.251434         0.000000\n",
       "Q            -0.019037         0.000000\n",
       "S             0.081724         0.000000\n",
       "FareBand      0.331096         0.066328\n",
       "AgeBand      -0.175898         0.045801"
      ]
     },
     "execution_count": 140,
     "metadata": {},
     "output_type": "execute_result"
    }
   ],
   "source": [
    "coef_gini = pd.DataFrame(logreg.coef_[0], index = X_train.columns, columns = ['Log Reg Coef'])\n",
    "coef_gini['Gini Importance'] = gini_importance['Gini importance']\n",
    "coef_gini"
   ]
  },
  {
   "cell_type": "markdown",
   "metadata": {},
   "source": [
    "**Section 2.4**\n",
    "\n",
    "**Answers:**\n",
    "\n",
    "The logistic regression model performed fairly well, achieving a 10-fold train score of about 83.5%, a 10-fold validation (test) score of about 80.7%, and a held-out test score of 76.9%. This is similar (in fact, slightly better) to the performance of the decision tree we trained above. \n",
    "\n",
    "We would expect the coefficient _magnitudes_ to correlate with the gini importances of variables. To illustrate this relationship, we plotted a scatter plot of the _absolute value_ of the coefficients (x-axis) against the gini importances (y-axis). As expected, variables with large gini importances (e.g. 'Sex', 'Pclass') have relatively large logistic regression coefficient _magnitudes_, while those with small gini importances have relatively smaller coefficient _magnitudes_. "
   ]
  },
  {
   "cell_type": "markdown",
   "metadata": {},
   "source": [
    "### 2.5 Missing Data\n",
    "Have you been paying close attention to your features? If not, now is a good time to start. Perform analysis that allows you to answer the following questions:\n",
    "* Do any of your features have missing data? If so, which ones? What percent of observations have missing data?\n",
    "* What happens to observations with missing data when you run the decision tree and logistic regression models above?\n",
    "* Use one of the methods we discussed in class to impute missing values\n",
    "* Rerun your decision tree and logistic regression on the new dataset with imputed missing values. What do you notice?"
   ]
  },
  {
   "cell_type": "markdown",
   "metadata": {},
   "source": [
    "**Section 2.5**\n",
    "\n",
    "**Answers:**\n",
    "\n",
    "The variable 'AgeBand' has 19.9% of its data missing. Up until now, we have simply dropped rows with NaN values (for the AgeBand in particular) before feeding the data into the predictive algorithms. Moreover, recall that we have previously imputed the **2** missing values for 'Embarked' by taking the median value, and dropped the 'Cabin' column which has 687 missing values. \n",
    "\n",
    "Now, we will use a more logical approach in imputing the missing data for the AgeBand column. Specifically, we will use the two attributes 'Pclass' and 'Sex' to estimate the AgeBand of passengers. The reasoning is that wealth (for which Pclass can be used as a proxy), together with Gender, are historically indicative of age."
   ]
  },
  {
   "cell_type": "markdown",
   "metadata": {},
   "source": [
    "### 2.5.1 Imputing Missing Data"
   ]
  },
  {
   "cell_type": "code",
   "execution_count": 146,
   "metadata": {
    "scrolled": true
   },
   "outputs": [
    {
     "name": "stdout",
     "output_type": "stream",
     "text": [
      "(891, 12)\n",
      "\n",
      "Survived      0\n",
      "Pclass        0\n",
      "Name          0\n",
      "Sex           0\n",
      "Age         177\n",
      "SibSp         0\n",
      "Parch         0\n",
      "Fare          0\n",
      "C             0\n",
      "Q             0\n",
      "S             0\n",
      "FareBand      0\n",
      "dtype: int64\n",
      "\n",
      "Percentage of observations with missing data: 19.87 %\n"
     ]
    }
   ],
   "source": [
    "print(qtrain.shape)\n",
    "print()\n",
    "print(qtrain.isna().sum())\n",
    "print()\n",
    "print('Percentage of observations with missing data:', np.around(qtrain.isna().sum()['Age']/len(qtrain) * 100,2),'%')"
   ]
  },
  {
   "cell_type": "code",
   "execution_count": 147,
   "metadata": {},
   "outputs": [],
   "source": [
    "guess_ages = np.zeros((2,3), dtype = int)\n",
    "for i in range(0, 2):\n",
    "        for j in range(0,3):\n",
    "            age_guess = qtrain[(qtrain['Sex'] == i) \\\n",
    "                        &(qtrain['Pclass'] == j+1)]['Age'].dropna().median()\n",
    "    \n",
    "            guess_ages[i,j] = int(age_guess)\n",
    "    \n",
    "for i in range(0, 2):\n",
    "    for j in range(0, 3):\n",
    "        qtrain.loc[ (qtrain.Age.isnull()) & (qtrain.Sex == i) \\\n",
    "                & (qtrain.Pclass == j+1),'Age'] = guess_ages[i,j]\n",
    "\n",
    "\n",
    "qtrain['Age'] = qtrain['Age'].astype(int)"
   ]
  },
  {
   "cell_type": "code",
   "execution_count": 148,
   "metadata": {},
   "outputs": [],
   "source": [
    "qtrain['AgeBand']=pd.qcut(qtrain['Age'],5,labels=np.arange(5)).astype(int)\n",
    "\n",
    "qtrain = qtrain.drop(['Age','Fare'], axis = 1)\n",
    "\n",
    "pd.options.mode.chained_assignment = None\n",
    "qtrain.loc[qtrain['AgeBand'] < 0, 'AgeBand'] = np.nan # set missing AgeBand values to NaN\n",
    "\n",
    "qtrain.loc[qtrain['SibSp'] >= 2, 'SibSp'] = 2 \n",
    "qtrain.loc[qtrain['Parch'] >= 2, 'Parch'] = 2 "
   ]
  },
  {
   "cell_type": "code",
   "execution_count": 149,
   "metadata": {},
   "outputs": [
    {
     "name": "stdout",
     "output_type": "stream",
     "text": [
      "(891, 11)\n",
      "\n",
      "Survived    0\n",
      "Pclass      0\n",
      "Name        0\n",
      "Sex         0\n",
      "SibSp       0\n",
      "Parch       0\n",
      "C           0\n",
      "Q           0\n",
      "S           0\n",
      "FareBand    0\n",
      "AgeBand     0\n",
      "dtype: int64\n"
     ]
    },
    {
     "data": {
      "text/html": [
       "<div>\n",
       "<style scoped>\n",
       "    .dataframe tbody tr th:only-of-type {\n",
       "        vertical-align: middle;\n",
       "    }\n",
       "\n",
       "    .dataframe tbody tr th {\n",
       "        vertical-align: top;\n",
       "    }\n",
       "\n",
       "    .dataframe thead th {\n",
       "        text-align: right;\n",
       "    }\n",
       "</style>\n",
       "<table border=\"1\" class=\"dataframe\">\n",
       "  <thead>\n",
       "    <tr style=\"text-align: right;\">\n",
       "      <th></th>\n",
       "      <th>Survived</th>\n",
       "      <th>Pclass</th>\n",
       "      <th>Name</th>\n",
       "      <th>Sex</th>\n",
       "      <th>SibSp</th>\n",
       "      <th>Parch</th>\n",
       "      <th>C</th>\n",
       "      <th>Q</th>\n",
       "      <th>S</th>\n",
       "      <th>FareBand</th>\n",
       "      <th>AgeBand</th>\n",
       "    </tr>\n",
       "  </thead>\n",
       "  <tbody>\n",
       "    <tr>\n",
       "      <th>0</th>\n",
       "      <td>0</td>\n",
       "      <td>3</td>\n",
       "      <td>Braund, Mr. Owen Harris</td>\n",
       "      <td>0</td>\n",
       "      <td>1</td>\n",
       "      <td>0</td>\n",
       "      <td>0</td>\n",
       "      <td>0</td>\n",
       "      <td>1</td>\n",
       "      <td>0</td>\n",
       "      <td>1.0</td>\n",
       "    </tr>\n",
       "    <tr>\n",
       "      <th>1</th>\n",
       "      <td>1</td>\n",
       "      <td>1</td>\n",
       "      <td>Cumings, Mrs. John Bradley (Florence Briggs Th...</td>\n",
       "      <td>1</td>\n",
       "      <td>1</td>\n",
       "      <td>0</td>\n",
       "      <td>1</td>\n",
       "      <td>0</td>\n",
       "      <td>0</td>\n",
       "      <td>3</td>\n",
       "      <td>3.0</td>\n",
       "    </tr>\n",
       "    <tr>\n",
       "      <th>2</th>\n",
       "      <td>1</td>\n",
       "      <td>3</td>\n",
       "      <td>Heikkinen, Miss. Laina</td>\n",
       "      <td>1</td>\n",
       "      <td>0</td>\n",
       "      <td>0</td>\n",
       "      <td>0</td>\n",
       "      <td>0</td>\n",
       "      <td>1</td>\n",
       "      <td>1</td>\n",
       "      <td>2.0</td>\n",
       "    </tr>\n",
       "    <tr>\n",
       "      <th>3</th>\n",
       "      <td>1</td>\n",
       "      <td>1</td>\n",
       "      <td>Futrelle, Mrs. Jacques Heath (Lily May Peel)</td>\n",
       "      <td>1</td>\n",
       "      <td>1</td>\n",
       "      <td>0</td>\n",
       "      <td>0</td>\n",
       "      <td>0</td>\n",
       "      <td>1</td>\n",
       "      <td>3</td>\n",
       "      <td>3.0</td>\n",
       "    </tr>\n",
       "    <tr>\n",
       "      <th>4</th>\n",
       "      <td>0</td>\n",
       "      <td>3</td>\n",
       "      <td>Allen, Mr. William Henry</td>\n",
       "      <td>0</td>\n",
       "      <td>0</td>\n",
       "      <td>0</td>\n",
       "      <td>0</td>\n",
       "      <td>0</td>\n",
       "      <td>1</td>\n",
       "      <td>1</td>\n",
       "      <td>3.0</td>\n",
       "    </tr>\n",
       "  </tbody>\n",
       "</table>\n",
       "</div>"
      ],
      "text/plain": [
       "   Survived  Pclass                                               Name  Sex  \\\n",
       "0         0       3                            Braund, Mr. Owen Harris    0   \n",
       "1         1       1  Cumings, Mrs. John Bradley (Florence Briggs Th...    1   \n",
       "2         1       3                             Heikkinen, Miss. Laina    1   \n",
       "3         1       1       Futrelle, Mrs. Jacques Heath (Lily May Peel)    1   \n",
       "4         0       3                           Allen, Mr. William Henry    0   \n",
       "\n",
       "   SibSp  Parch  C  Q  S  FareBand  AgeBand  \n",
       "0      1      0  0  0  1         0      1.0  \n",
       "1      1      0  1  0  0         3      3.0  \n",
       "2      0      0  0  0  1         1      2.0  \n",
       "3      1      0  0  0  1         3      3.0  \n",
       "4      0      0  0  0  1         1      3.0  "
      ]
     },
     "execution_count": 149,
     "metadata": {},
     "output_type": "execute_result"
    }
   ],
   "source": [
    "print(qtrain.shape)\n",
    "print()\n",
    "print(qtrain.isna().sum())\n",
    "qtrain.head()"
   ]
  },
  {
   "cell_type": "markdown",
   "metadata": {},
   "source": [
    "### 2.5.2 Training Decision Tree with Imputed Data Set"
   ]
  },
  {
   "cell_type": "code",
   "execution_count": 152,
   "metadata": {},
   "outputs": [
    {
     "name": "stdout",
     "output_type": "stream",
     "text": [
      "Shape of training set: (712, 9) (712,)\n",
      "Shape of test set: (179, 9) (179,)\n"
     ]
    }
   ],
   "source": [
    "X = qtrain.drop(['Survived','Name'], axis = 1)\n",
    "y = qtrain['Survived']\n",
    "X_train, X_test, y_train, y_test = train_test_split(X, y, test_size = 0.2, shuffle = True, random_state = 99)\n",
    "print('Shape of training set:', X_train.shape, y_train.shape)\n",
    "print('Shape of test set:', X_test.shape, y_test.shape)"
   ]
  },
  {
   "cell_type": "code",
   "execution_count": 156,
   "metadata": {
    "scrolled": true
   },
   "outputs": [
    {
     "name": "stdout",
     "output_type": "stream",
     "text": [
      "Training for max_depth: None , min_samples_split: 2 , min_samples_leaf: 1\n",
      "10-fold CV training score: 0.9051204173166927\n",
      "10-fold CV test score: 0.7992175273865414\n",
      "\n",
      "Training for max_depth: None , min_samples_split: 2 , min_samples_leaf: 2\n",
      "10-fold CV training score: 0.8889686524960998\n",
      "10-fold CV test score: 0.8034428794992176\n",
      "\n",
      "Training for max_depth: None , min_samples_split: 2 , min_samples_leaf: 3\n",
      "10-fold CV training score: 0.8810877372594904\n",
      "10-fold CV test score: 0.8001825769431403\n",
      "\n",
      "Training for max_depth: None , min_samples_split: 2 , min_samples_leaf: 4\n",
      "10-fold CV training score: 0.8746895110179407\n",
      "10-fold CV test score: 0.8003178794992175\n",
      "\n",
      "Training for max_depth: None , min_samples_split: 3 , min_samples_leaf: 1\n",
      "10-fold CV training score: 0.8787155323712948\n",
      "10-fold CV test score: 0.8023356807511738\n",
      "\n",
      "Training for max_depth: None , min_samples_split: 3 , min_samples_leaf: 2\n",
      "10-fold CV training score: 0.8777324249219969\n",
      "10-fold CV test score: 0.8032244392279604\n",
      "\n",
      "Training for max_depth: None , min_samples_split: 3 , min_samples_leaf: 3\n",
      "10-fold CV training score: 0.8759600651883217\n",
      "10-fold CV test score: 0.8018583724569639\n",
      "\n",
      "Training for max_depth: None , min_samples_split: 3 , min_samples_leaf: 4\n",
      "10-fold CV training score: 0.873401911076443\n",
      "10-fold CV test score: 0.8017165492957747\n",
      "\n",
      "Training for max_depth: None , min_samples_split: 4 , min_samples_leaf: 1\n",
      "10-fold CV training score: 0.8755215916970013\n",
      "10-fold CV test score: 0.8012823856720571\n",
      "\n",
      "Training for max_depth: None , min_samples_split: 4 , min_samples_leaf: 2\n",
      "10-fold CV training score: 0.8752511212948518\n",
      "10-fold CV test score: 0.8019209702660406\n",
      "\n",
      "Training for max_depth: None , min_samples_split: 4 , min_samples_leaf: 3\n",
      "10-fold CV training score: 0.8743488290667991\n",
      "10-fold CV test score: 0.8011701522264904\n",
      "\n",
      "Training for max_depth: None , min_samples_split: 4 , min_samples_leaf: 4\n",
      "10-fold CV training score: 0.8727776626690068\n",
      "10-fold CV test score: 0.8011329551382368\n",
      "\n",
      "Training for max_depth: 1 , min_samples_split: 2 , min_samples_leaf: 1\n",
      "10-fold CV training score: 0.8673306994779791\n",
      "10-fold CV test score: 0.8012022992656795\n",
      "\n",
      "Training for max_depth: 1 , min_samples_split: 2 , min_samples_leaf: 2\n",
      "10-fold CV training score: 0.8626618738856698\n",
      "10-fold CV test score: 0.8012617370892018\n",
      "\n",
      "Training for max_depth: 1 , min_samples_split: 2 , min_samples_leaf: 3\n",
      "10-fold CV training score: 0.8586155583723348\n",
      "10-fold CV test score: 0.801313249869588\n",
      "\n",
      "Training for max_depth: 1 , min_samples_split: 2 , min_samples_leaf: 4\n",
      "10-fold CV training score: 0.8550750322981668\n",
      "10-fold CV test score: 0.8013583235524259\n",
      "\n",
      "Training for max_depth: 1 , min_samples_split: 3 , min_samples_leaf: 1\n",
      "10-fold CV training score: 0.8519510387033128\n",
      "10-fold CV test score: 0.8013980944490473\n",
      "\n",
      "Training for max_depth: 1 , min_samples_split: 3 , min_samples_leaf: 2\n",
      "10-fold CV training score: 0.849174155507887\n",
      "10-fold CV test score: 0.8014334463571553\n",
      "\n",
      "Training for max_depth: 1 , min_samples_split: 3 , min_samples_leaf: 3\n",
      "10-fold CV training score: 0.8466895758067166\n",
      "10-fold CV test score: 0.8014650770117783\n",
      "\n",
      "Training for max_depth: 1 , min_samples_split: 3 , min_samples_leaf: 4\n",
      "10-fold CV training score: 0.8444534540756631\n",
      "10-fold CV test score: 0.8014935446009389\n",
      "\n",
      "Training for max_depth: 1 , min_samples_split: 4 , min_samples_leaf: 1\n",
      "10-fold CV training score: 0.8424302963189957\n",
      "10-fold CV test score: 0.801519300991132\n",
      "\n",
      "Training for max_depth: 1 , min_samples_split: 4 , min_samples_leaf: 2\n",
      "10-fold CV training score: 0.8405910619947524\n",
      "10-fold CV test score: 0.8015427158913075\n",
      "\n",
      "Training for max_depth: 1 , min_samples_split: 4 , min_samples_leaf: 3\n",
      "10-fold CV training score: 0.8389117610900088\n",
      "10-fold CV test score: 0.8015640947132069\n",
      "\n",
      "Training for max_depth: 1 , min_samples_split: 4 , min_samples_leaf: 4\n",
      "10-fold CV training score: 0.8373724019273271\n",
      "10-fold CV test score: 0.8015836919666145\n",
      "\n",
      "Training for max_depth: 2 , min_samples_split: 2 , min_samples_leaf: 1\n",
      "10-fold CV training score: 0.8359561914976599\n",
      "10-fold CV test score: 0.8016017214397495\n",
      "\n",
      "Training for max_depth: 2 , min_samples_split: 2 , min_samples_leaf: 2\n",
      "10-fold CV training score: 0.8346489203318133\n",
      "10-fold CV test score: 0.8016183640303359\n",
      "\n",
      "Training for max_depth: 2 , min_samples_split: 2 , min_samples_leaf: 3\n",
      "10-fold CV training score: 0.8334384840671404\n",
      "10-fold CV test score: 0.8016337738364343\n",
      "\n",
      "Training for max_depth: 2 , min_samples_split: 2 , min_samples_leaf: 4\n",
      "10-fold CV training score: 0.8323145075356586\n",
      "10-fold CV test score: 0.8016480829420971\n",
      "\n",
      "Training for max_depth: 2 , min_samples_split: 3 , min_samples_leaf: 1\n",
      "10-fold CV training score: 0.8312680466270375\n",
      "10-fold CV test score: 0.8016614052128865\n",
      "\n",
      "Training for max_depth: 2 , min_samples_split: 3 , min_samples_leaf: 2\n",
      "10-fold CV training score: 0.8302913497789911\n",
      "10-fold CV test score: 0.80167383933229\n",
      "\n",
      "Training for max_depth: 2 , min_samples_split: 3 , min_samples_leaf: 3\n",
      "10-fold CV training score: 0.8293776656308188\n",
      "10-fold CV test score: 0.8016854712504418\n",
      "\n",
      "Training for max_depth: 2 , min_samples_split: 3 , min_samples_leaf: 4\n",
      "10-fold CV training score: 0.828521086741907\n",
      "10-fold CV test score: 0.801696376173709\n",
      "\n",
      "Training for max_depth: 2 , min_samples_split: 4 , min_samples_leaf: 1\n",
      "10-fold CV training score: 0.8277164217250509\n",
      "10-fold CV test score: 0.8017066201925357\n",
      "\n",
      "Training for max_depth: 2 , min_samples_split: 4 , min_samples_leaf: 2\n",
      "10-fold CV training score: 0.8269590899444802\n",
      "10-fold CV test score: 0.8017162616220197\n",
      "\n",
      "Training for max_depth: 2 , min_samples_split: 4 , min_samples_leaf: 3\n",
      "10-fold CV training score: 0.8262450342656564\n",
      "10-fold CV test score: 0.8017253521126761\n",
      "\n",
      "Training for max_depth: 2 , min_samples_split: 4 , min_samples_leaf: 4\n",
      "10-fold CV training score: 0.8255706483467672\n",
      "10-fold CV test score: 0.8017339375760737\n",
      "\n",
      "Training for max_depth: 3 , min_samples_split: 2 , min_samples_leaf: 1\n",
      "10-fold CV training score: 0.8252869974596282\n",
      "10-fold CV test score: 0.8016268028591971\n",
      "\n",
      "Training for max_depth: 3 , min_samples_split: 2 , min_samples_leaf: 2\n",
      "10-fold CV training score: 0.8250182755665488\n",
      "10-fold CV test score: 0.80152530681163\n",
      "\n",
      "Training for max_depth: 3 , min_samples_split: 2 , min_samples_leaf: 3\n",
      "10-fold CV training score: 0.8247633342833713\n",
      "10-fold CV test score: 0.8014290156895789\n",
      "\n",
      "Training for max_depth: 3 , min_samples_split: 2 , min_samples_leaf: 4\n",
      "10-fold CV training score: 0.8245211400643526\n",
      "10-fold CV test score: 0.8013375391236306\n",
      "\n",
      "Training for max_depth: 3 , min_samples_split: 3 , min_samples_leaf: 1\n",
      "10-fold CV training score: 0.8242907601974809\n",
      "10-fold CV test score: 0.801250524829192\n",
      "\n",
      "Training for max_depth: 3 , min_samples_split: 3 , min_samples_leaf: 2\n",
      "10-fold CV training score: 0.8240713508004606\n",
      "10-fold CV test score: 0.8011676540725838\n",
      "\n",
      "Training for max_depth: 3 , min_samples_split: 3 , min_samples_leaf: 3\n",
      "10-fold CV training score: 0.8238621464916737\n",
      "10-fold CV test score: 0.801088637769771\n",
      "\n",
      "Training for max_depth: 3 , min_samples_split: 3 , min_samples_leaf: 4\n",
      "10-fold CV training score: 0.8236624514696497\n",
      "10-fold CV test score: 0.8010132131170863\n",
      "\n",
      "Training for max_depth: 3 , min_samples_split: 4 , min_samples_leaf: 1\n",
      "10-fold CV training score: 0.8234716317819379\n",
      "10-fold CV test score: 0.8009411406711877\n",
      "\n",
      "Training for max_depth: 3 , min_samples_split: 4 , min_samples_leaf: 2\n",
      "10-fold CV training score: 0.8232891086023876\n",
      "10-fold CV test score: 0.8008722018098932\n",
      "\n",
      "Training for max_depth: 3 , min_samples_split: 4 , min_samples_leaf: 3\n",
      "10-fold CV training score: 0.8231143523666479\n",
      "10-fold CV test score: 0.8008061965171646\n",
      "\n",
      "Training for max_depth: 3 , min_samples_split: 4 , min_samples_leaf: 4\n",
      "10-fold CV training score: 0.8229468776407306\n",
      "10-fold CV test score: 0.800742941444966\n",
      "\n",
      "Training for max_depth: 4 , min_samples_split: 2 , min_samples_leaf: 1\n",
      "10-fold CV training score: 0.8229072727960138\n",
      "10-fold CV test score: 0.8005972341988439\n",
      "\n",
      "Training for max_depth: 4 , min_samples_split: 2 , min_samples_leaf: 2\n",
      "10-fold CV training score: 0.8228598868954757\n",
      "10-fold CV test score: 0.8004569640062598\n",
      "\n",
      "Training for max_depth: 4 , min_samples_split: 2 , min_samples_leaf: 3\n",
      "10-fold CV training score: 0.8228082413737725\n",
      "10-fold CV test score: 0.8002673448095984\n",
      "\n",
      "Training for max_depth: 4 , min_samples_split: 2 , min_samples_leaf: 4\n"
     ]
    },
    {
     "name": "stdout",
     "output_type": "stream",
     "text": [
      "10-fold CV training score: 0.8227465817382695\n",
      "10-fold CV test score: 0.8000850186589623\n",
      "\n",
      "Training for max_depth: 4 , min_samples_split: 3 , min_samples_leaf: 1\n",
      "10-fold CV training score: 0.822713745106408\n",
      "10-fold CV test score: 0.7999627218236042\n",
      "\n",
      "Training for max_depth: 4 , min_samples_split: 3 , min_samples_leaf: 2\n",
      "10-fold CV training score: 0.8226734531186802\n",
      "10-fold CV test score: 0.7998445922448271\n",
      "\n",
      "Training for max_depth: 4 , min_samples_split: 3 , min_samples_leaf: 3\n",
      "10-fold CV training score: 0.8226289533399518\n",
      "10-fold CV test score: 0.7996798975672216\n",
      "\n",
      "Training for max_depth: 4 , min_samples_split: 3 , min_samples_leaf: 4\n",
      "10-fold CV training score: 0.82257489953616\n",
      "10-fold CV test score: 0.7995210848423877\n",
      "\n",
      "Training for max_depth: 4 , min_samples_split: 4 , min_samples_leaf: 1\n",
      "10-fold CV training score: 0.8225473791977995\n",
      "10-fold CV test score: 0.7994172638168191\n",
      "\n",
      "Training for max_depth: 4 , min_samples_split: 4 , min_samples_leaf: 2\n",
      "10-fold CV training score: 0.8225127343455807\n",
      "10-fold CV test score: 0.7993166855539366\n",
      "\n",
      "Training for max_depth: 4 , min_samples_split: 4 , min_samples_leaf: 3\n",
      "10-fold CV training score: 0.8224739755480049\n",
      "10-fold CV test score: 0.7991721041882178\n",
      "\n",
      "Training for max_depth: 4 , min_samples_split: 4 , min_samples_leaf: 4\n",
      "10-fold CV training score: 0.8224261082943317\n",
      "10-fold CV test score: 0.7990323422013563\n",
      "\n"
     ]
    }
   ],
   "source": [
    "max_depth = [None,1,2,3,4]\n",
    "min_samples_split = [2,3,4]\n",
    "min_samples_leaf = [1,2,3,4]\n",
    "K = 10\n",
    "\n",
    "kf = KFold(n_splits = K)\n",
    "opt_depth = np.nan\n",
    "opt_split = np.nan\n",
    "opt_leaf = np.nan\n",
    "best_score = 0\n",
    "val_list = []\n",
    "train_list = []\n",
    "\n",
    "for depth in max_depth:\n",
    "    for split in min_samples_split:\n",
    "        for leaf in min_samples_leaf:\n",
    "            print('Training for max_depth:', depth, ', min_samples_split:',\\\n",
    "                  split, ', min_samples_leaf:', leaf)\n",
    "            clf = DecisionTreeClassifier(random_state = 0, max_depth = depth,\\\n",
    "                                            min_samples_split = split,\\\n",
    "                                            min_samples_leaf = leaf)\n",
    "            \n",
    "            for train_index, test_index in kf.split(X_train):\n",
    "                X, X_val = np.asarray(X_train)[train_index], np.asarray(X_train)[test_index]\n",
    "                y, y_val = np.asarray(y_train)[train_index], np.asarray(y_train)[test_index]\n",
    "                clf.fit(X, y)\n",
    "                train_list.append(clf.score(X,y))\n",
    "                val_list.append(clf.score(X_val,y_val))\n",
    "                \n",
    "            train_score = np.mean(train_list)\n",
    "            val_score = np.mean(val_list)\n",
    "            \n",
    "        \n",
    "            print('10-fold CV training score:', train_score)\n",
    "            print('10-fold CV test score:', val_score)\n",
    "            print()\n",
    "            \n",
    "            if val_score > best_score:\n",
    "                opt_depth = depth\n",
    "                opt_split = split\n",
    "                opt_leaf = leaf\n",
    "                best_score = val_score"
   ]
  },
  {
   "cell_type": "code",
   "execution_count": 157,
   "metadata": {},
   "outputs": [
    {
     "name": "stdout",
     "output_type": "stream",
     "text": [
      "Optimal max_depth: None\n",
      "Optimal min_samples_split: 2\n",
      "Optimal min_samples_leaf: 2\n",
      "Best 10-fold CV test score: 0.7990323422013563\n"
     ]
    }
   ],
   "source": [
    "print('Optimal max_depth:', opt_depth)\n",
    "print('Optimal min_samples_split:', opt_split)\n",
    "print('Optimal min_samples_leaf:', opt_leaf)\n",
    "print('Best 10-fold CV test score:', val_score)"
   ]
  },
  {
   "cell_type": "code",
   "execution_count": 159,
   "metadata": {},
   "outputs": [
    {
     "name": "stdout",
     "output_type": "stream",
     "text": [
      "train score: 0.8721910112359551\n",
      "Held-out test score: 0.7821229050279329\n"
     ]
    }
   ],
   "source": [
    "clf = DecisionTreeClassifier(random_state = 0, max_depth = opt_depth,\\\n",
    "                        min_samples_split = opt_split,\\\n",
    "                        min_samples_leaf = opt_leaf) \n",
    "clf.fit(X_train, y_train)\n",
    "train_score = np.mean(clf.score(X_train, y_train))\n",
    "test_score = np.mean(clf.score(X_test, y_test))\n",
    "print('train score:', train_score)\n",
    "print('Held-out test score:', test_score)"
   ]
  },
  {
   "cell_type": "markdown",
   "metadata": {},
   "source": [
    "### 2.5.3 Training Logistic Regression with Imputed Data Set"
   ]
  },
  {
   "cell_type": "code",
   "execution_count": 160,
   "metadata": {},
   "outputs": [
    {
     "name": "stdout",
     "output_type": "stream",
     "text": [
      "10-fold train score: 0.8220702355758165\n",
      "10-fold validation score: 0.7989420585443444\n",
      "Held-out test score: 0.7430167597765364\n"
     ]
    }
   ],
   "source": [
    "K = 10\n",
    "kf = KFold(n_splits = K, shuffle = True, random_state = 0)\n",
    "\n",
    "logreg = LogisticRegression(penalty = 'l2', random_state = 0)\n",
    "for train_index, test_index in kf.split(X_train):\n",
    "    X, X_val = np.asarray(X_train)[train_index], np.asarray(X_train)[test_index]\n",
    "    y, y_val = np.asarray(y_train)[train_index], np.asarray(y_train)[test_index]\n",
    "    logreg.fit(X, y)\n",
    "    train_list.append(logreg.score(X,y))\n",
    "    val_list.append(logreg.score(X_val,y_val))\n",
    "\n",
    "print('10-fold train score:', np.mean(train_list))\n",
    "print('10-fold validation score:', np.mean(val_list))\n",
    "print('Held-out test score:', logreg.score(X_test, y_test))"
   ]
  },
  {
   "cell_type": "markdown",
   "metadata": {},
   "source": [
    "**Section 2.5**\n",
    "\n",
    "**Answers:**\n",
    "\n",
    "We expected improvements in the predictive accuracy of the models trained using the imputed data set. In this case, the held-out test score of the decision tree improved significantly from 72.7% to about 78.2%. However, the held-out test score of the logistic regression model decreased slightly from 76.9% to 74.3%. This could be due to small random differences arising from the random selection of data. "
   ]
  },
  {
   "cell_type": "markdown",
   "metadata": {},
   "source": [
    "## 2.6 (extra credit): Implement a Decision Tree in Python\n",
    "\n",
    "Now, put away the canned algorithm from sklearn, and write your own decision tree algorithm. Use the simple recursive algorithm we described in class, and use your algorithm to re-do the analysis in 2.1. Do not worry about implementing bells and whistles. However, you will definitely need the following:\n",
    " * A \"GrowTree\" function that implements the recursive algorithm\n",
    " * A function to calculate information gain\n",
    " \n",
    "Implement the minimum required code to build a decision tree. How does your algorithm compare in performance to the sklearn algorithm? What do you think are the main sources of discrepancy? If you had more time, what would you change to improve your algorithm?"
   ]
  },
  {
   "cell_type": "code",
   "execution_count": 320,
   "metadata": {},
   "outputs": [],
   "source": [
    "# Enter your code here"
   ]
  },
  {
   "cell_type": "markdown",
   "metadata": {},
   "source": [
    "*Enter your observations here*"
   ]
  },
  {
   "cell_type": "markdown",
   "metadata": {},
   "source": [
    "## 3: Many Trees\n",
    "\n",
    "### 3.1: Random Forest\n",
    "Use the [random forest classifier](http://scikit-learn.org/stable/modules/generated/sklearn.ensemble.RandomForestClassifier.html) to predict survival on the titanic. Use cross-validation on the training data to choose the best hyper-parameters. \n",
    "* What hyperparameters did you select with cross-validation?\n",
    "* How does the cross-validated performance (average across validation folds) compare to the test performance (using the top-performing, fitted model selected through cross-validation)?\n",
    "* How does the RF performance compare to the decision tree and logistic regression?\n",
    "* Create a plot that shows how cross-validated performance (y-axis) relates to the number of trees in the forest (x-axis)."
   ]
  },
  {
   "cell_type": "code",
   "execution_count": 166,
   "metadata": {
    "scrolled": true
   },
   "outputs": [
    {
     "name": "stdout",
     "output_type": "stream",
     "text": [
      "Training Random Forest with  50  n_estimators...\n",
      "where max_depth: 1\n",
      "where max_depth: 2\n",
      "where max_depth: 3\n",
      "where max_depth: 4\n",
      "where max_depth: None\n",
      "Training Random Forest with  100  n_estimators...\n",
      "where max_depth: 1\n",
      "where max_depth: 2\n",
      "where max_depth: 3\n",
      "where max_depth: 4\n",
      "where max_depth: None\n",
      "Training Random Forest with  150  n_estimators...\n",
      "where max_depth: 1\n",
      "where max_depth: 2\n",
      "where max_depth: 3\n",
      "where max_depth: 4\n",
      "where max_depth: None\n"
     ]
    }
   ],
   "source": [
    "from sklearn.ensemble import RandomForestClassifier\n",
    "n_estimators = [50, 100, 150]\n",
    "max_depth = [1,2,3,4,None]\n",
    "min_samples_split = [2,3,4,5]\n",
    "min_samples_leaf = [1,2,3,4,5]\n",
    "\n",
    "K = 10\n",
    "kf = KFold(n_splits = K, shuffle = True, random_state = 0)\n",
    "opt_depth = np.nan\n",
    "opt_split = np.nan\n",
    "opt_leaf = np.nan\n",
    "opt_n_est = np.nan\n",
    "best_score = 0\n",
    "val_list = []\n",
    "train_list = []\n",
    "\n",
    "for n_est in n_estimators:\n",
    "    print('Training Random Forest with ', n_est, ' n_estimators...')\n",
    "    for depth in max_depth:\n",
    "        print('where max_depth:', depth)\n",
    "        for split in min_samples_split:\n",
    "            for leaf in min_samples_leaf:\n",
    "                \n",
    "                clf = RandomForestClassifier(n_estimators = n_est, random_state = 0, \\\n",
    "                                                max_depth = depth,\\\n",
    "                                                min_samples_split = split,\\\n",
    "                                                min_samples_leaf = leaf)\n",
    "\n",
    "                for train_index, test_index in kf.split(X_train):\n",
    "                    X, X_val = np.asarray(X_train)[train_index], np.asarray(X_train)[test_index]\n",
    "                    y, y_val = np.asarray(y_train)[train_index], np.asarray(y_train)[test_index]\n",
    "                    clf.fit(X, y)\n",
    "                    train_list.append(clf.score(X,y))\n",
    "                    val_list.append(clf.score(X_val,y_val))\n",
    "\n",
    "                train_score = np.mean(train_list)\n",
    "                val_score = np.mean(val_list)\n",
    "\n",
    "\n",
    "                #print('10-fold CV training score:', train_score)\n",
    "                #print('10-fold CV test score:', val_score)\n",
    "                #print()\n",
    "\n",
    "                if val_score > best_score:\n",
    "                    opt_depth = depth\n",
    "                    opt_split = split\n",
    "                    opt_leaf = leaf\n",
    "                    opt_n_est = n_est\n",
    "                    best_score = val_score"
   ]
  },
  {
   "cell_type": "code",
   "execution_count": 167,
   "metadata": {},
   "outputs": [
    {
     "name": "stdout",
     "output_type": "stream",
     "text": [
      "Optimal parameters for Random Forest Classifier:\n",
      "Optimal n_estimators: 150\n",
      "Optimal max_depth: None\n",
      "Optimal min_samples_split: 5\n",
      "Optimal min_samples_leaf: 5\n",
      "Best 10-fold CV test score: 0.7935813119457485\n"
     ]
    }
   ],
   "source": [
    "print('Optimal parameters for Random Forest Classifier:')\n",
    "print('Optimal n_estimators:', opt_n_est)\n",
    "print('Optimal max_depth:', opt_depth)\n",
    "print('Optimal min_samples_split:', opt_split)\n",
    "print('Optimal min_samples_leaf:', opt_leaf)\n",
    "print('Best 10-fold CV test score:', val_score)"
   ]
  },
  {
   "cell_type": "code",
   "execution_count": 169,
   "metadata": {},
   "outputs": [
    {
     "name": "stdout",
     "output_type": "stream",
     "text": [
      "Train score: 0.8455056179775281\n",
      "Held-out test score: 0.8044692737430168\n"
     ]
    }
   ],
   "source": [
    "rf = RandomForestClassifier(n_estimators = opt_n_est,\\\n",
    "                            max_depth = opt_depth,\\\n",
    "                            min_samples_split = opt_split,\\\n",
    "                            min_samples_leaf = opt_leaf,\\\n",
    "                            random_state = 0) \n",
    "rf.fit(X_train, y_train)\n",
    "train_score = np.mean(rf.score(X_train, y_train))\n",
    "test_score = np.mean(rf.score(X_test, y_test))\n",
    "print('Train score:', train_score)\n",
    "print('Held-out test score:', test_score)"
   ]
  },
  {
   "cell_type": "markdown",
   "metadata": {},
   "source": [
    "**Section 3.1**\n",
    "\n",
    "**Answers:**\n",
    "\n",
    "The hyperparameters we optimized with cross-validation are: n_estimators, max_depth, min_samples_split, and min_samples_leaf. The combination which achieved the highest 10-fold cross-validation test score of about 79.4% is n_estimators = 150, max_depth = None, min_samples_split = 5, min_samples_leaf = 5. \n",
    "\n",
    "The cross-validation performance of 79.4% is very similar to the held-out test score of 80.4%, which suggests that it is a good indicator of test accuracy (unseen data). The held-out test score of the random forest classifier surpasses to the performances of both the decision tree and logistic regression, which achieved held-out test scores of 78.2% and 74.3% respectively. \n",
    "\n",
    "To show how cross-validated performance relates to the number of trees, we train the random forest classifier with different  values of n_estimators and default values for other parameters. "
   ]
  },
  {
   "cell_type": "code",
   "execution_count": 176,
   "metadata": {},
   "outputs": [
    {
     "name": "stdout",
     "output_type": "stream",
     "text": [
      "Training random forest with  1  estimators...\n",
      "Training random forest with  5  estimators...\n",
      "Training random forest with  10  estimators...\n",
      "Training random forest with  30  estimators...\n",
      "Training random forest with  50  estimators...\n",
      "Training random forest with  70  estimators...\n",
      "Training random forest with  90  estimators...\n",
      "Training random forest with  110  estimators...\n",
      "Training random forest with  130  estimators...\n",
      "Training random forest with  150  estimators...\n",
      "Training random forest with  170  estimators...\n",
      "Training random forest with  190  estimators...\n",
      "Training random forest with  210  estimators...\n",
      "Training random forest with  230  estimators...\n",
      "Training random forest with  250  estimators...\n"
     ]
    }
   ],
   "source": [
    "from sklearn.ensemble import RandomForestClassifier\n",
    "n_estimators = [1,5,10,30,50,70,90,110,130,150,170,190,210,230,250]\n",
    "\n",
    "K = 10\n",
    "kf = KFold(n_splits = K, shuffle = True, random_state = 0)\n",
    "\n",
    "val_list = []\n",
    "train_list = []\n",
    "val_score = []\n",
    "train_score = []\n",
    "\n",
    "for n_est in n_estimators:\n",
    "    print('Training random forest with ', n_est, ' estimators...')\n",
    "    clf = RandomForestClassifier(n_estimators = n_est, random_state = 0)\n",
    "\n",
    "    for train_index, test_index in kf.split(X_train):\n",
    "        X, X_val = np.asarray(X_train)[train_index], np.asarray(X_train)[test_index]\n",
    "        y, y_val = np.asarray(y_train)[train_index], np.asarray(y_train)[test_index]\n",
    "        clf.fit(X, y)\n",
    "        train_list.append(clf.score(X,y))\n",
    "        val_list.append(clf.score(X_val,y_val))\n",
    "\n",
    "    train_score.append(np.mean(train_list))\n",
    "    val_score.append(np.mean(val_list))"
   ]
  },
  {
   "cell_type": "code",
   "execution_count": 177,
   "metadata": {
    "scrolled": false
   },
   "outputs": [
    {
     "data": {
      "text/plain": [
       "Text(0.5,1,'Cross-Validation Accuracy against Number of Trees')"
      ]
     },
     "execution_count": 177,
     "metadata": {},
     "output_type": "execute_result"
    },
    {
     "data": {
      "image/png": "[encoded data removed]",
      "text/plain": [
       "<matplotlib.figure.Figure at 0x1d28b68da20>"
      ]
     },
     "metadata": {},
     "output_type": "display_data"
    }
   ],
   "source": [
    "fig, ax = plt.subplots(figsize = (12,6))\n",
    "plt.plot(val_score, color = 'red')\n",
    "\n",
    "x = [i for i in range(len(n_estimators))]\n",
    "plt.xticks(x, n_estimators)\n",
    "ax.set_xlabel('Number of trees in the forest (n_estimators)', fontsize = 14)\n",
    "ax.set_ylabel('Cross-Validation Accuracy', fontsize = 14)\n",
    "ax.set_title('Cross-Validation Accuracy against Number of Trees', fontsize = 14)"
   ]
  },
  {
   "cell_type": "markdown",
   "metadata": {},
   "source": [
    "**Section 3.1**\n",
    "\n",
    "**Answers:**\n",
    "\n",
    "The graph clearly shows that as you increase the number of trees in the forest, there is a general increase in cross-validation accuracy of the random forest classifier. It should be noted that when the number of estimators increase beyond approximately 30, the increase in cross-validation accuracy starts to decrease. The fact that cross-validation accuracy does not decrease significantly when we increase the number of estimators substantially beyond this point shows the robustness of the random forest classifier against overfitting. "
   ]
  },
  {
   "cell_type": "markdown",
   "metadata": {},
   "source": [
    "### 3.2: Gradient Boosting\n",
    "\n",
    "Use the [Gradient Boosting classifier](http://scikit-learn.org/stable/modules/generated/sklearn.ensemble.GradientBoostingClassifier.html) to predict survival on the Titanic. Tune your hyperparameters. \n",
    "* How does the GBM performance compare to the other models?\n",
    "* Create a figure showing the feature importances in your final model (with properly tuned hyperparameters)\n"
   ]
  },
  {
   "cell_type": "code",
   "execution_count": 178,
   "metadata": {},
   "outputs": [
    {
     "name": "stdout",
     "output_type": "stream",
     "text": [
      "Training Gradient Boosting Classifier with  50  n_estimators...\n",
      "where max_depth: 1\n",
      "where max_depth: 2\n",
      "where max_depth: 3\n",
      "where max_depth: 4\n",
      "where max_depth: 5\n",
      "where max_depth: None\n",
      "Training Gradient Boosting Classifier with  100  n_estimators...\n",
      "where max_depth: 1\n",
      "where max_depth: 2\n",
      "where max_depth: 3\n",
      "where max_depth: 4\n",
      "where max_depth: 5\n",
      "where max_depth: None\n",
      "Training Gradient Boosting Classifier with  150  n_estimators...\n",
      "where max_depth: 1\n",
      "where max_depth: 2\n",
      "where max_depth: 3\n",
      "where max_depth: 4\n",
      "where max_depth: 5\n",
      "where max_depth: None\n"
     ]
    }
   ],
   "source": [
    "from sklearn.ensemble import GradientBoostingClassifier\n",
    "\n",
    "n_estimators = [50,100,150]\n",
    "max_depth = [1,2,3,4,5, None]\n",
    "min_samples_split = [2,3,4,5]\n",
    "min_samples_leaf = [1,2,3,4,5]\n",
    "\n",
    "K = 10\n",
    "kf = KFold(n_splits = K, shuffle = True, random_state = 0)\n",
    "opt_depth = np.nan\n",
    "opt_split = np.nan\n",
    "opt_leaf = np.nan\n",
    "opt_n_est = np.nan\n",
    "best_score = 0\n",
    "val_list = []\n",
    "train_list = []\n",
    "\n",
    "for n_est in n_estimators:\n",
    "    print('Training Gradient Boosting Classifier with ', n_est, ' n_estimators...')\n",
    "    for depth in max_depth:\n",
    "        print('where max_depth:', depth)\n",
    "        for split in min_samples_split:\n",
    "            for leaf in min_samples_leaf:\n",
    "                \n",
    "                clf = GradientBoostingClassifier(n_estimators = n_est, random_state = 0, \\\n",
    "                                                max_depth = depth,\\\n",
    "                                                min_samples_split = split,\\\n",
    "                                                min_samples_leaf = leaf)\n",
    "\n",
    "                for train_index, test_index in kf.split(X_train):\n",
    "                    X, X_val = np.asarray(X_train)[train_index], np.asarray(X_train)[test_index]\n",
    "                    y, y_val = np.asarray(y_train)[train_index], np.asarray(y_train)[test_index]\n",
    "                    clf.fit(X, y)\n",
    "                    train_list.append(clf.score(X,y))\n",
    "                    val_list.append(clf.score(X_val,y_val))\n",
    "\n",
    "                train_score = np.mean(train_list)\n",
    "                val_score = np.mean(val_list)\n",
    "\n",
    "\n",
    "                #print('10-fold CV training score:', train_score)\n",
    "                #print('10-fold CV test score:', val_score)\n",
    "                #print()\n",
    "\n",
    "                if val_score > best_score:\n",
    "                    opt_depth = depth\n",
    "                    opt_split = split\n",
    "                    opt_leaf = leaf\n",
    "                    opt_n_est = n_est\n",
    "                    best_score = val_score"
   ]
  },
  {
   "cell_type": "code",
   "execution_count": 179,
   "metadata": {},
   "outputs": [
    {
     "name": "stdout",
     "output_type": "stream",
     "text": [
      "Optimal parameters for Gradient Boosting Classifier:\n",
      "Optimal n_estimators: 150\n",
      "Optimal max_depth: 5\n",
      "Optimal min_samples_split: 5\n",
      "Optimal min_samples_leaf: 5\n",
      "Best 10-fold CV test score: 0.809002673448096\n"
     ]
    }
   ],
   "source": [
    "print('Optimal parameters for Gradient Boosting Classifier:')\n",
    "print('Optimal n_estimators:', opt_n_est)\n",
    "print('Optimal max_depth:', opt_depth)\n",
    "print('Optimal min_samples_split:', opt_split)\n",
    "print('Optimal min_samples_leaf:', opt_leaf)\n",
    "print('Best 10-fold CV test score:', val_score)"
   ]
  },
  {
   "cell_type": "code",
   "execution_count": 180,
   "metadata": {
    "scrolled": true
   },
   "outputs": [
    {
     "name": "stdout",
     "output_type": "stream",
     "text": [
      "Train score: 0.9030898876404494\n",
      "Held-out test score: 0.8044692737430168\n"
     ]
    }
   ],
   "source": [
    "gbc = GradientBoostingClassifier(n_estimators = opt_n_est, random_state = 0, max_depth = opt_depth,\\\n",
    "                        min_samples_split = opt_split,\\\n",
    "                        min_samples_leaf = opt_leaf) \n",
    "gbc.fit(X_train, y_train)\n",
    "train_score = np.mean(gbc.score(X_train, y_train))\n",
    "test_score = np.mean(gbc.score(X_test, y_test))\n",
    "print('Train score:', train_score)\n",
    "print('Held-out test score:', test_score)"
   ]
  },
  {
   "cell_type": "code",
   "execution_count": 186,
   "metadata": {},
   "outputs": [
    {
     "data": {
      "text/plain": [
       "Text(0,0.5,'Feature Importance')"
      ]
     },
     "execution_count": 186,
     "metadata": {},
     "output_type": "execute_result"
    },
    {
     "data": {
      "image/png": "[encoded data removed]",
      "text/plain": [
       "<matplotlib.figure.Figure at 0x1d28adad4a8>"
      ]
     },
     "metadata": {},
     "output_type": "display_data"
    }
   ],
   "source": [
    "gbc_features = pd.DataFrame(gbc.feature_importances_, index = X_train.columns, columns = ['GBC features'])\n",
    "\n",
    "plt.figure(figsize = (15,8))\n",
    "plt.bar(gbc_features.index, gbc_features['GBC features'], color = 'lightblue')\n",
    "plt.title('Feature Importances of Gradient Boosting Classifier', fontsize = 18)\n",
    "plt.xlabel('Feature', fontsize = 18)\n",
    "plt.ylabel('Feature Importance', fontsize = 18)"
   ]
  },
  {
   "cell_type": "markdown",
   "metadata": {},
   "source": [
    "**Section 3.2**\n",
    "\n",
    "**Answers:**\n",
    "\n",
    "Here, we trained the Gradient Boosting Classifier with differnent values of n_estimators, max_depth, min_samples_split, and min_samples_leaf. The combination which achieved the best cross-validation score of 80.9% is n_estimators = 150, max_depth = 5, min_samples_split = 5, min_samples_leaf = 5. \n",
    "\n",
    "The held-out test score of the Gradient Boosting Classifier is 80.4%, which is the same as the held-out test score of the Random Forest Classifier trained previously. The Gradient Boosting Classifier did better than both the Decision Tree and Logistic Regression models. \n",
    "\n",
    "When plotting the feature importances of the Gradient Boosting Classifier, we note the differences compared to the Gini importances of the Decision Tree. In this case, 'AgeBand','FareBand','Parch','Pclass' and 'SibSp' are deemed to be more important than 'Sex'. This is different from the Gini importances of the Decision Tree, which recognises 'Sex' and 'Pclass' as the two most important variables in predicting survivability. \n"
   ]
  },
  {
   "cell_type": "markdown",
   "metadata": {},
   "source": [
    "### 3.3 Feature Engineering\n",
    "Revisit the features in your dataset.\n",
    "* Are each of the features being appropriately included in the analysis? \n",
    "* Find a way to engineer meaningful features from the \"Name\" and/or \"Cabin\" fields in the data.\n",
    "* Create a final table that summarizes the performance of your models as follows:\n",
    "\n",
    "| Model | Cross-validated Performance   | Test Performance | \n",
    "|------|------|------|\n",
    "|   Decision Tree        |  |  |\n",
    "|   Decision Tree (with imputed missing values and new features)        |  |  |\n",
    "|   Logistic Regression  |  |  |\n",
    "|   Logistic Regression (with imputed missing values and new features)        |  |  |\n",
    "|   Random Forest        |  |  |\n",
    "|   Random Forest (with imputed missing values and new features)        |  |  |\n",
    "|   Gradient Boosting    |  |  | \n",
    "|   Gradient Boosting (with imputed missing values and new features)        |  |   x |\n"
   ]
  },
  {
   "cell_type": "markdown",
   "metadata": {},
   "source": [
    "**Section 3.3**\n",
    "\n",
    "**Answers:**\n",
    "\n",
    "So far, we have transformed features (with 'Name' dropped) into the appropriate form before feeding them into the machine learning algorithm. However, it is possible to engineer a new feature named 'Title' (e.g. Mr, Mrs, Master) from the 'Name' column. We will use the one-hot encoding approach to create this variable.\n",
    "\n",
    "Note that other variables such as 'Age' was categorized into 5 categories (in 'AgeBand') in the range [0,1,2,3,4] instead of using the one-hot encoding approach because there is an _inherent order_ to these variables. For our case, it would not make sense, for instance, to classify 'Mr' as 0, 'Mrs' as 1, 'Master' as 2, etc if we were to use this approach for categorizing the variable 'Title'.\n",
    "\n",
    "We also note that 77.1% of the 'Cabin' data is missing, which makes it sensible for us to exclude it (and any feature engineered from it) from the predictive model. \n",
    "\n",
    "Instead, we will engineer a new feature 'Age \\* Pclass', which is constructed from multiplying the 'AgeBand' and 'Pclass'. "
   ]
  },
  {
   "cell_type": "code",
   "execution_count": 192,
   "metadata": {},
   "outputs": [],
   "source": [
    "qtrain['Age*Pclass'] = qtrain['AgeBand'] * qtrain['Pclass']"
   ]
  },
  {
   "cell_type": "code",
   "execution_count": 193,
   "metadata": {},
   "outputs": [
    {
     "data": {
      "text/plain": [
       "Age*Pclass\n",
       "0.0     0.455556\n",
       "1.0     0.761905\n",
       "2.0     0.510204\n",
       "3.0     0.347368\n",
       "4.0     0.474576\n",
       "6.0     0.339806\n",
       "8.0     0.382353\n",
       "9.0     0.206349\n",
       "12.0    0.078947\n",
       "Name: Survived, dtype: float64"
      ]
     },
     "execution_count": 193,
     "metadata": {},
     "output_type": "execute_result"
    }
   ],
   "source": [
    "qtrain.groupby('Age*Pclass').mean()['Survived']"
   ]
  },
  {
   "cell_type": "markdown",
   "metadata": {},
   "source": [
    "**Next, we extract the 'Title' variable from 'Name'**"
   ]
  },
  {
   "cell_type": "code",
   "execution_count": 196,
   "metadata": {},
   "outputs": [
    {
     "data": {
      "text/plain": [
       "array(['Mr', 'Mrs', 'Miss', 'Master', 'Don', 'Rev', 'Dr', 'Mme', 'Ms',\n",
       "       'Major', 'Lady', 'Sir', 'Mlle', 'Col', 'Capt', 'Countess',\n",
       "       'Jonkheer'], dtype=object)"
      ]
     },
     "execution_count": 196,
     "metadata": {},
     "output_type": "execute_result"
    }
   ],
   "source": [
    "qtrain['Title'] = qtrain['Name'].str.extract(' ([A-Za-z]+)\\.',\\\n",
    "                                                expand=False)\n",
    "qtrain['Title'].unique()"
   ]
  },
  {
   "cell_type": "markdown",
   "metadata": {},
   "source": [
    "**Here, we simplify the types of 'Title' available**"
   ]
  },
  {
   "cell_type": "code",
   "execution_count": 197,
   "metadata": {},
   "outputs": [],
   "source": [
    "qtrain['Title'] = qtrain['Title'].\\\n",
    "                  replace(['Lady', 'Countess','Capt', 'Col', 'Don', 'Dr',\\\n",
    "                 'Major', 'Rev', 'Sir', 'Jonkheer', 'Dona'], 'Rare') # classify as 'Rare' title type\n",
    "\n",
    "qtrain['Title'] = qtrain['Title'].replace('Mlle', 'Miss') # Mademoiselle\n",
    "qtrain['Title'] = qtrain['Title'].replace('Ms', 'Miss')\n",
    "qtrain['Title'] = qtrain['Title'].replace('Mme', 'Mrs') # Madame"
   ]
  },
  {
   "cell_type": "code",
   "execution_count": 203,
   "metadata": {},
   "outputs": [
    {
     "data": {
      "text/html": [
       "<div>\n",
       "<style scoped>\n",
       "    .dataframe tbody tr th:only-of-type {\n",
       "        vertical-align: middle;\n",
       "    }\n",
       "\n",
       "    .dataframe tbody tr th {\n",
       "        vertical-align: top;\n",
       "    }\n",
       "\n",
       "    .dataframe thead th {\n",
       "        text-align: right;\n",
       "    }\n",
       "</style>\n",
       "<table border=\"1\" class=\"dataframe\">\n",
       "  <thead>\n",
       "    <tr style=\"text-align: right;\">\n",
       "      <th></th>\n",
       "      <th>Survived</th>\n",
       "      <th>Pclass</th>\n",
       "      <th>Sex</th>\n",
       "      <th>SibSp</th>\n",
       "      <th>Parch</th>\n",
       "      <th>C</th>\n",
       "      <th>Q</th>\n",
       "      <th>S</th>\n",
       "      <th>FareBand</th>\n",
       "      <th>AgeBand</th>\n",
       "      <th>Age*Pclass</th>\n",
       "      <th>Title</th>\n",
       "    </tr>\n",
       "  </thead>\n",
       "  <tbody>\n",
       "    <tr>\n",
       "      <th>0</th>\n",
       "      <td>0</td>\n",
       "      <td>3</td>\n",
       "      <td>0</td>\n",
       "      <td>1</td>\n",
       "      <td>0</td>\n",
       "      <td>0</td>\n",
       "      <td>0</td>\n",
       "      <td>1</td>\n",
       "      <td>0</td>\n",
       "      <td>1.0</td>\n",
       "      <td>3.0</td>\n",
       "      <td>Mr</td>\n",
       "    </tr>\n",
       "    <tr>\n",
       "      <th>1</th>\n",
       "      <td>1</td>\n",
       "      <td>1</td>\n",
       "      <td>1</td>\n",
       "      <td>1</td>\n",
       "      <td>0</td>\n",
       "      <td>1</td>\n",
       "      <td>0</td>\n",
       "      <td>0</td>\n",
       "      <td>3</td>\n",
       "      <td>3.0</td>\n",
       "      <td>3.0</td>\n",
       "      <td>Mrs</td>\n",
       "    </tr>\n",
       "    <tr>\n",
       "      <th>2</th>\n",
       "      <td>1</td>\n",
       "      <td>3</td>\n",
       "      <td>1</td>\n",
       "      <td>0</td>\n",
       "      <td>0</td>\n",
       "      <td>0</td>\n",
       "      <td>0</td>\n",
       "      <td>1</td>\n",
       "      <td>1</td>\n",
       "      <td>2.0</td>\n",
       "      <td>6.0</td>\n",
       "      <td>Miss</td>\n",
       "    </tr>\n",
       "    <tr>\n",
       "      <th>3</th>\n",
       "      <td>1</td>\n",
       "      <td>1</td>\n",
       "      <td>1</td>\n",
       "      <td>1</td>\n",
       "      <td>0</td>\n",
       "      <td>0</td>\n",
       "      <td>0</td>\n",
       "      <td>1</td>\n",
       "      <td>3</td>\n",
       "      <td>3.0</td>\n",
       "      <td>3.0</td>\n",
       "      <td>Mrs</td>\n",
       "    </tr>\n",
       "    <tr>\n",
       "      <th>4</th>\n",
       "      <td>0</td>\n",
       "      <td>3</td>\n",
       "      <td>0</td>\n",
       "      <td>0</td>\n",
       "      <td>0</td>\n",
       "      <td>0</td>\n",
       "      <td>0</td>\n",
       "      <td>1</td>\n",
       "      <td>1</td>\n",
       "      <td>3.0</td>\n",
       "      <td>9.0</td>\n",
       "      <td>Mr</td>\n",
       "    </tr>\n",
       "  </tbody>\n",
       "</table>\n",
       "</div>"
      ],
      "text/plain": [
       "   Survived  Pclass  Sex  SibSp  Parch  C  Q  S  FareBand  AgeBand  \\\n",
       "0         0       3    0      1      0  0  0  1         0      1.0   \n",
       "1         1       1    1      1      0  1  0  0         3      3.0   \n",
       "2         1       3    1      0      0  0  0  1         1      2.0   \n",
       "3         1       1    1      1      0  0  0  1         3      3.0   \n",
       "4         0       3    0      0      0  0  0  1         1      3.0   \n",
       "\n",
       "   Age*Pclass Title  \n",
       "0         3.0    Mr  \n",
       "1         3.0   Mrs  \n",
       "2         6.0  Miss  \n",
       "3         3.0   Mrs  \n",
       "4         9.0    Mr  "
      ]
     },
     "execution_count": 203,
     "metadata": {},
     "output_type": "execute_result"
    }
   ],
   "source": [
    "qtrain.drop('Name',axis =1, inplace = True)\n",
    "qtrain.head()"
   ]
  },
  {
   "cell_type": "code",
   "execution_count": 204,
   "metadata": {
    "scrolled": true
   },
   "outputs": [
    {
     "data": {
      "text/html": [
       "<div>\n",
       "<style scoped>\n",
       "    .dataframe tbody tr th:only-of-type {\n",
       "        vertical-align: middle;\n",
       "    }\n",
       "\n",
       "    .dataframe tbody tr th {\n",
       "        vertical-align: top;\n",
       "    }\n",
       "\n",
       "    .dataframe thead th {\n",
       "        text-align: right;\n",
       "    }\n",
       "</style>\n",
       "<table border=\"1\" class=\"dataframe\">\n",
       "  <thead>\n",
       "    <tr style=\"text-align: right;\">\n",
       "      <th></th>\n",
       "      <th>Survived</th>\n",
       "    </tr>\n",
       "    <tr>\n",
       "      <th>Title</th>\n",
       "      <th></th>\n",
       "    </tr>\n",
       "  </thead>\n",
       "  <tbody>\n",
       "    <tr>\n",
       "      <th>Master</th>\n",
       "      <td>0.575000</td>\n",
       "    </tr>\n",
       "    <tr>\n",
       "      <th>Miss</th>\n",
       "      <td>0.702703</td>\n",
       "    </tr>\n",
       "    <tr>\n",
       "      <th>Mr</th>\n",
       "      <td>0.156673</td>\n",
       "    </tr>\n",
       "    <tr>\n",
       "      <th>Mrs</th>\n",
       "      <td>0.793651</td>\n",
       "    </tr>\n",
       "    <tr>\n",
       "      <th>Rare</th>\n",
       "      <td>0.347826</td>\n",
       "    </tr>\n",
       "  </tbody>\n",
       "</table>\n",
       "</div>"
      ],
      "text/plain": [
       "        Survived\n",
       "Title           \n",
       "Master  0.575000\n",
       "Miss    0.702703\n",
       "Mr      0.156673\n",
       "Mrs     0.793651\n",
       "Rare    0.347826"
      ]
     },
     "execution_count": 204,
     "metadata": {},
     "output_type": "execute_result"
    }
   ],
   "source": [
    "pd.DataFrame(qtrain.groupby('Title').mean()['Survived'])"
   ]
  },
  {
   "cell_type": "markdown",
   "metadata": {},
   "source": [
    "**Answers:**\n",
    "\n",
    "As seen above, within male passengers, those with the Title 'Master' had a better chance of survival compared to those with the Title 'Mr'. This indicates that 'Title' might be a good indicator of survivability. \n",
    "\n",
    "Next, we map the variable 'Title' to dummy binary variables."
   ]
  },
  {
   "cell_type": "code",
   "execution_count": 206,
   "metadata": {},
   "outputs": [
    {
     "data": {
      "text/html": [
       "<div>\n",
       "<style scoped>\n",
       "    .dataframe tbody tr th:only-of-type {\n",
       "        vertical-align: middle;\n",
       "    }\n",
       "\n",
       "    .dataframe tbody tr th {\n",
       "        vertical-align: top;\n",
       "    }\n",
       "\n",
       "    .dataframe thead th {\n",
       "        text-align: right;\n",
       "    }\n",
       "</style>\n",
       "<table border=\"1\" class=\"dataframe\">\n",
       "  <thead>\n",
       "    <tr style=\"text-align: right;\">\n",
       "      <th></th>\n",
       "      <th>Survived</th>\n",
       "      <th>Pclass</th>\n",
       "      <th>Sex</th>\n",
       "      <th>SibSp</th>\n",
       "      <th>Parch</th>\n",
       "      <th>C</th>\n",
       "      <th>Q</th>\n",
       "      <th>S</th>\n",
       "      <th>FareBand</th>\n",
       "      <th>AgeBand</th>\n",
       "      <th>Age*Pclass</th>\n",
       "      <th>Master</th>\n",
       "      <th>Miss</th>\n",
       "      <th>Mr</th>\n",
       "      <th>Mrs</th>\n",
       "      <th>Rare</th>\n",
       "    </tr>\n",
       "  </thead>\n",
       "  <tbody>\n",
       "    <tr>\n",
       "      <th>0</th>\n",
       "      <td>0</td>\n",
       "      <td>3</td>\n",
       "      <td>0</td>\n",
       "      <td>1</td>\n",
       "      <td>0</td>\n",
       "      <td>0</td>\n",
       "      <td>0</td>\n",
       "      <td>1</td>\n",
       "      <td>0</td>\n",
       "      <td>1.0</td>\n",
       "      <td>3.0</td>\n",
       "      <td>0</td>\n",
       "      <td>0</td>\n",
       "      <td>1</td>\n",
       "      <td>0</td>\n",
       "      <td>0</td>\n",
       "    </tr>\n",
       "    <tr>\n",
       "      <th>1</th>\n",
       "      <td>1</td>\n",
       "      <td>1</td>\n",
       "      <td>1</td>\n",
       "      <td>1</td>\n",
       "      <td>0</td>\n",
       "      <td>1</td>\n",
       "      <td>0</td>\n",
       "      <td>0</td>\n",
       "      <td>3</td>\n",
       "      <td>3.0</td>\n",
       "      <td>3.0</td>\n",
       "      <td>0</td>\n",
       "      <td>0</td>\n",
       "      <td>0</td>\n",
       "      <td>1</td>\n",
       "      <td>0</td>\n",
       "    </tr>\n",
       "    <tr>\n",
       "      <th>2</th>\n",
       "      <td>1</td>\n",
       "      <td>3</td>\n",
       "      <td>1</td>\n",
       "      <td>0</td>\n",
       "      <td>0</td>\n",
       "      <td>0</td>\n",
       "      <td>0</td>\n",
       "      <td>1</td>\n",
       "      <td>1</td>\n",
       "      <td>2.0</td>\n",
       "      <td>6.0</td>\n",
       "      <td>0</td>\n",
       "      <td>1</td>\n",
       "      <td>0</td>\n",
       "      <td>0</td>\n",
       "      <td>0</td>\n",
       "    </tr>\n",
       "    <tr>\n",
       "      <th>3</th>\n",
       "      <td>1</td>\n",
       "      <td>1</td>\n",
       "      <td>1</td>\n",
       "      <td>1</td>\n",
       "      <td>0</td>\n",
       "      <td>0</td>\n",
       "      <td>0</td>\n",
       "      <td>1</td>\n",
       "      <td>3</td>\n",
       "      <td>3.0</td>\n",
       "      <td>3.0</td>\n",
       "      <td>0</td>\n",
       "      <td>0</td>\n",
       "      <td>0</td>\n",
       "      <td>1</td>\n",
       "      <td>0</td>\n",
       "    </tr>\n",
       "    <tr>\n",
       "      <th>4</th>\n",
       "      <td>0</td>\n",
       "      <td>3</td>\n",
       "      <td>0</td>\n",
       "      <td>0</td>\n",
       "      <td>0</td>\n",
       "      <td>0</td>\n",
       "      <td>0</td>\n",
       "      <td>1</td>\n",
       "      <td>1</td>\n",
       "      <td>3.0</td>\n",
       "      <td>9.0</td>\n",
       "      <td>0</td>\n",
       "      <td>0</td>\n",
       "      <td>1</td>\n",
       "      <td>0</td>\n",
       "      <td>0</td>\n",
       "    </tr>\n",
       "  </tbody>\n",
       "</table>\n",
       "</div>"
      ],
      "text/plain": [
       "   Survived  Pclass  Sex  SibSp  Parch  C  Q  S  FareBand  AgeBand  \\\n",
       "0         0       3    0      1      0  0  0  1         0      1.0   \n",
       "1         1       1    1      1      0  1  0  0         3      3.0   \n",
       "2         1       3    1      0      0  0  0  1         1      2.0   \n",
       "3         1       1    1      1      0  0  0  1         3      3.0   \n",
       "4         0       3    0      0      0  0  0  1         1      3.0   \n",
       "\n",
       "   Age*Pclass  Master  Miss  Mr  Mrs  Rare  \n",
       "0         3.0       0     0   1    0     0  \n",
       "1         3.0       0     0   0    1     0  \n",
       "2         6.0       0     1   0    0     0  \n",
       "3         3.0       0     0   0    1     0  \n",
       "4         9.0       0     0   1    0     0  "
      ]
     },
     "execution_count": 206,
     "metadata": {},
     "output_type": "execute_result"
    }
   ],
   "source": [
    "binary_encoded = pd.get_dummies(qtrain.Title)\n",
    "newcols = binary_encoded.columns\n",
    "qtrain[newcols] = binary_encoded\n",
    "qtrain.drop('Title', axis = 1, inplace = True)\n",
    "qtrain.head()"
   ]
  },
  {
   "cell_type": "code",
   "execution_count": 207,
   "metadata": {},
   "outputs": [
    {
     "name": "stdout",
     "output_type": "stream",
     "text": [
      "Shape of training set (with imputed values and new features): (712, 15) (712,)\n",
      "Shape of test set (with imputed values and new features): (179, 15) (179,)\n"
     ]
    }
   ],
   "source": [
    "X = qtrain.drop('Survived', axis = 1)\n",
    "y = qtrain['Survived']\n",
    "X_train, X_test, y_train, y_test = train_test_split(X, y, test_size = 0.2, shuffle = True, random_state = 99)\n",
    "print('Shape of training set (with imputed values and new features):', X_train.shape, y_train.shape)\n",
    "print('Shape of test set (with imputed values and new features):', X_test.shape, y_test.shape)"
   ]
  },
  {
   "cell_type": "markdown",
   "metadata": {},
   "source": [
    "### Decision Tree (with imputed missing values and new features)"
   ]
  },
  {
   "cell_type": "code",
   "execution_count": 208,
   "metadata": {
    "scrolled": true
   },
   "outputs": [
    {
     "name": "stdout",
     "output_type": "stream",
     "text": [
      "Training for max_depth: None , min_samples_split: 2 , min_samples_leaf: 1\n",
      "10-fold CV training score: 0.9093335608424337\n",
      "10-fold CV test score: 0.7950508607198749\n",
      "\n",
      "Training for max_depth: None , min_samples_split: 2 , min_samples_leaf: 2\n",
      "10-fold CV training score: 0.8931820397815912\n",
      "10-fold CV test score: 0.7957355242566511\n",
      "\n",
      "Training for max_depth: None , min_samples_split: 2 , min_samples_leaf: 3\n",
      "10-fold CV training score: 0.8857171411856473\n",
      "10-fold CV test score: 0.7959441836202399\n",
      "\n",
      "Training for max_depth: None , min_samples_split: 2 , min_samples_leaf: 4\n",
      "10-fold CV training score: 0.8796049263845553\n",
      "10-fold CV test score: 0.7971097417840375\n",
      "\n",
      "Training for max_depth: None , min_samples_split: 3 , min_samples_leaf: 1\n",
      "10-fold CV training score: 0.8839590483619345\n",
      "10-fold CV test score: 0.7961424100156493\n",
      "\n",
      "Training for max_depth: None , min_samples_split: 3 , min_samples_leaf: 2\n",
      "10-fold CV training score: 0.8828042934217368\n",
      "10-fold CV test score: 0.7961887063119458\n",
      "\n",
      "Training for max_depth: None , min_samples_split: 3 , min_samples_leaf: 3\n",
      "10-fold CV training score: 0.8810875863605974\n",
      "10-fold CV test score: 0.7962133914598705\n",
      "\n",
      "Training for max_depth: None , min_samples_split: 3 , min_samples_leaf: 4\n",
      "10-fold CV training score: 0.8786101733131826\n",
      "10-fold CV test score: 0.7967625195618153\n",
      "\n",
      "Training for max_depth: None , min_samples_split: 4 , min_samples_leaf: 1\n",
      "10-fold CV training score: 0.8808969004593517\n",
      "10-fold CV test score: 0.7962636932707357\n",
      "\n",
      "Training for max_depth: None , min_samples_split: 4 , min_samples_leaf: 2\n",
      "10-fold CV training score: 0.8805102622854915\n",
      "10-fold CV test score: 0.7962793427230046\n",
      "\n",
      "Training for max_depth: None , min_samples_split: 4 , min_samples_leaf: 3\n",
      "10-fold CV training score: 0.8796263606226067\n",
      "10-fold CV test score: 0.7962868117797695\n",
      "\n",
      "Training for max_depth: None , min_samples_split: 4 , min_samples_leaf: 4\n",
      "10-fold CV training score: 0.8780965207358294\n",
      "10-fold CV test score: 0.7966467788210746\n",
      "\n",
      "Training for max_depth: 1 , min_samples_split: 2 , min_samples_leaf: 1\n",
      "10-fold CV training score: 0.8720484069362776\n",
      "10-fold CV test score: 0.796194474539545\n",
      "\n",
      "Training for max_depth: 1 , min_samples_split: 2 , min_samples_leaf: 2\n",
      "10-fold CV training score: 0.8668643093938043\n",
      "10-fold CV test score: 0.7958067851553767\n",
      "\n",
      "Training for max_depth: 1 , min_samples_split: 2 , min_samples_leaf: 3\n",
      "10-fold CV training score: 0.8623714248569944\n",
      "10-fold CV test score: 0.7954707876890975\n",
      "\n",
      "Training for max_depth: 1 , min_samples_split: 2 , min_samples_leaf: 4\n",
      "10-fold CV training score: 0.8584401508872854\n",
      "10-fold CV test score: 0.7951767899061033\n",
      "\n",
      "Training for max_depth: 1 , min_samples_split: 3 , min_samples_leaf: 1\n",
      "10-fold CV training score: 0.8549713797375426\n",
      "10-fold CV test score: 0.7949173800975791\n",
      "\n",
      "Training for max_depth: 1 , min_samples_split: 3 , min_samples_leaf: 2\n",
      "10-fold CV training score: 0.8518880276044374\n",
      "10-fold CV test score: 0.7946867936011128\n",
      "\n",
      "Training for max_depth: 1 , min_samples_split: 3 , min_samples_leaf: 3\n",
      "10-fold CV training score: 0.8491292388537647\n",
      "10-fold CV test score: 0.7944804793674327\n",
      "\n",
      "Training for max_depth: 1 , min_samples_split: 3 , min_samples_leaf: 4\n",
      "10-fold CV training score: 0.8466463289781592\n",
      "10-fold CV test score: 0.7942947965571204\n",
      "\n",
      "Training for max_depth: 1 , min_samples_split: 4 , min_samples_leaf: 1\n",
      "10-fold CV training score: 0.844399886709754\n",
      "10-fold CV test score: 0.794126797823981\n",
      "\n",
      "Training for max_depth: 1 , min_samples_split: 4 , min_samples_leaf: 2\n",
      "10-fold CV training score: 0.8423576664657495\n",
      "10-fold CV test score: 0.7939740717029449\n",
      "\n",
      "Training for max_depth: 1 , min_samples_split: 4 , min_samples_leaf: 3\n",
      "10-fold CV training score: 0.8404930305907888\n",
      "10-fold CV test score: 0.793834626114173\n",
      "\n",
      "Training for max_depth: 1 , min_samples_split: 4 , min_samples_leaf: 4\n",
      "10-fold CV training score: 0.8387837810387416\n",
      "10-fold CV test score: 0.7937068009911319\n",
      "\n",
      "Training for max_depth: 2 , min_samples_split: 2 , min_samples_leaf: 1\n",
      "10-fold CV training score: 0.837223751950078\n",
      "10-fold CV test score: 0.7936455399061033\n",
      "\n",
      "Training for max_depth: 2 , min_samples_split: 2 , min_samples_leaf: 2\n",
      "10-fold CV training score: 0.8357837250990039\n",
      "10-fold CV test score: 0.7935889912122307\n",
      "\n",
      "Training for max_depth: 2 , min_samples_split: 2 , min_samples_leaf: 3\n",
      "10-fold CV training score: 0.834450366903565\n",
      "10-fold CV test score: 0.7935366313104969\n",
      "\n",
      "Training for max_depth: 2 , min_samples_split: 2 , min_samples_leaf: 4\n",
      "10-fold CV training score: 0.8332122485792289\n",
      "10-fold CV test score: 0.7934880114017437\n",
      "\n",
      "Training for max_depth: 2 , min_samples_split: 3 , min_samples_leaf: 1\n",
      "10-fold CV training score: 0.8320595177255367\n",
      "10-fold CV test score: 0.7934427445901463\n",
      "\n",
      "Training for max_depth: 2 , min_samples_split: 3 , min_samples_leaf: 2\n",
      "10-fold CV training score: 0.8309836355954239\n",
      "10-fold CV test score: 0.7934004955659886\n",
      "\n",
      "Training for max_depth: 2 , min_samples_split: 3 , min_samples_leaf: 3\n",
      "10-fold CV training score: 0.8299771652156408\n",
      "10-fold CV test score: 0.7933609722853249\n",
      "\n",
      "Training for max_depth: 2 , min_samples_split: 3 , min_samples_leaf: 4\n",
      "10-fold CV training score: 0.8290335992345945\n",
      "10-fold CV test score: 0.7933239192097027\n",
      "\n",
      "Training for max_depth: 2 , min_samples_split: 4 , min_samples_leaf: 1\n",
      "10-fold CV training score: 0.828147219070581\n",
      "10-fold CV test score: 0.7932891117750274\n",
      "\n",
      "Training for max_depth: 2 , min_samples_split: 4 , min_samples_leaf: 2\n",
      "10-fold CV training score: 0.8273129789162155\n",
      "10-fold CV test score: 0.7932563518365093\n",
      "\n",
      "Training for max_depth: 2 , min_samples_split: 4 , min_samples_leaf: 3\n",
      "10-fold CV training score: 0.8265264096278137\n",
      "10-fold CV test score: 0.7932254638944781\n",
      "\n",
      "Training for max_depth: 2 , min_samples_split: 4 , min_samples_leaf: 4\n",
      "10-fold CV training score: 0.825783538633212\n",
      "10-fold CV test score: 0.7931962919492263\n",
      "\n",
      "Training for max_depth: 3 , min_samples_split: 2 , min_samples_leaf: 1\n",
      "10-fold CV training score: 0.8257639825863304\n",
      "10-fold CV test score: 0.7939284354777313\n",
      "\n",
      "Training for max_depth: 3 , min_samples_split: 2 , min_samples_leaf: 2\n",
      "10-fold CV training score: 0.8257454558050742\n",
      "10-fold CV test score: 0.794622045136315\n",
      "\n",
      "Training for max_depth: 3 , min_samples_split: 2 , min_samples_leaf: 3\n",
      "10-fold CV training score: 0.8257278791151647\n",
      "10-fold CV test score: 0.7952800850688175\n",
      "\n",
      "Training for max_depth: 3 , min_samples_split: 2 , min_samples_leaf: 4\n",
      "10-fold CV training score: 0.8256994807917317\n",
      "10-fold CV test score: 0.7958705007824726\n",
      "\n",
      "Training for max_depth: 3 , min_samples_split: 3 , min_samples_leaf: 1\n",
      "10-fold CV training score: 0.8256838828431187\n",
      "10-fold CV test score: 0.7964659910683614\n",
      "\n",
      "Training for max_depth: 3 , min_samples_split: 3 , min_samples_leaf: 2\n",
      "10-fold CV training score: 0.8256690276539632\n",
      "10-fold CV test score: 0.7970331246739699\n",
      "\n",
      "Training for max_depth: 3 , min_samples_split: 3 , min_samples_leaf: 3\n",
      "10-fold CV training score: 0.8256548634038385\n",
      "10-fold CV test score: 0.7975738799723406\n",
      "\n",
      "Training for max_depth: 3 , min_samples_split: 3 , min_samples_leaf: 4\n",
      "10-fold CV training score: 0.8256307061941568\n",
      "10-fold CV test score: 0.7980584898278561\n",
      "\n",
      "Training for max_depth: 3 , min_samples_split: 4 , min_samples_leaf: 1\n",
      "10-fold CV training score: 0.8256180230542556\n",
      "10-fold CV test score: 0.7985524256651018\n",
      "\n",
      "Training for max_depth: 3 , min_samples_split: 4 , min_samples_leaf: 2\n",
      "10-fold CV training score: 0.8256058913552194\n",
      "10-fold CV test score: 0.7990248860311628\n",
      "\n",
      "Training for max_depth: 3 , min_samples_split: 4 , min_samples_leaf: 3\n",
      "10-fold CV training score: 0.8255942758986955\n",
      "10-fold CV test score: 0.7994772417007958\n",
      "\n",
      "Training for max_depth: 3 , min_samples_split: 4 , min_samples_leaf: 4\n",
      "10-fold CV training score: 0.8255733940295111\n",
      "10-fold CV test score: 0.7998818140323423\n",
      "\n",
      "Training for max_depth: 4 , min_samples_split: 2 , min_samples_leaf: 1\n",
      "10-fold CV training score: 0.8258687149781909\n",
      "10-fold CV test score: 0.8002986170994218\n",
      "\n",
      "Training for max_depth: 4 , min_samples_split: 2 , min_samples_leaf: 2\n",
      "10-fold CV training score: 0.8261491029641186\n",
      "10-fold CV test score: 0.8006987480438185\n",
      "\n",
      "Training for max_depth: 4 , min_samples_split: 2 , min_samples_leaf: 3\n",
      "10-fold CV training score: 0.8264032006133187\n",
      "10-fold CV test score: 0.8009727208567308\n",
      "\n",
      "Training for max_depth: 4 , min_samples_split: 2 , min_samples_leaf: 4\n",
      "10-fold CV training score: 0.8266205241959679\n",
      "10-fold CV test score: 0.8012365324425184\n",
      "\n",
      "Training for max_depth: 4 , min_samples_split: 3 , min_samples_leaf: 1\n",
      "10-fold CV training score: 0.8268737995982103\n",
      "10-fold CV test score: 0.8015963179496266\n",
      "\n",
      "Training for max_depth: 4 , min_samples_split: 3 , min_samples_leaf: 2\n",
      "10-fold CV training score: 0.8271148054255504\n",
      "10-fold CV test score: 0.8019427780675825\n",
      "\n",
      "Training for max_depth: 4 , min_samples_split: 3 , min_samples_leaf: 3\n"
     ]
    },
    {
     "name": "stdout",
     "output_type": "stream",
     "text": [
      "10-fold CV training score: 0.8273328650191463\n",
      "10-fold CV test score: 0.8021742068573056\n",
      "\n",
      "Training for max_depth: 4 , min_samples_split: 3 , min_samples_leaf: 4\n",
      "10-fold CV training score: 0.8275180643386449\n",
      "10-fold CV test score: 0.8023977196512407\n",
      "\n",
      "Training for max_depth: 4 , min_samples_split: 4 , min_samples_leaf: 1\n",
      "10-fold CV training score: 0.8277378197101568\n",
      "10-fold CV test score: 0.8027118853471708\n",
      "\n",
      "Training for max_depth: 4 , min_samples_split: 4 , min_samples_leaf: 2\n",
      "10-fold CV training score: 0.8279473075474743\n",
      "10-fold CV test score: 0.803015217743241\n",
      "\n",
      "Training for max_depth: 4 , min_samples_split: 4 , min_samples_leaf: 3\n",
      "10-fold CV training score: 0.8281364732343531\n",
      "10-fold CV test score: 0.80321277950187\n",
      "\n",
      "Training for max_depth: 4 , min_samples_split: 4 , min_samples_leaf: 4\n",
      "10-fold CV training score: 0.8282959324622986\n",
      "10-fold CV test score: 0.8034040818988002\n",
      "\n"
     ]
    }
   ],
   "source": [
    "max_depth = [None,1,2,3,4]\n",
    "min_samples_split = [2,3,4]\n",
    "min_samples_leaf = [1,2,3,4]\n",
    "K = 10\n",
    "\n",
    "kf = KFold(n_splits = K)\n",
    "opt_depth = np.nan\n",
    "opt_split = np.nan\n",
    "opt_leaf = np.nan\n",
    "best_score = 0\n",
    "val_list = []\n",
    "train_list = []\n",
    "\n",
    "for depth in max_depth:\n",
    "    for split in min_samples_split:\n",
    "        for leaf in min_samples_leaf:\n",
    "            print('Training for max_depth:', depth, ', min_samples_split:',\\\n",
    "                  split, ', min_samples_leaf:', leaf)\n",
    "            clf = DecisionTreeClassifier(random_state = 0, max_depth = depth,\\\n",
    "                                            min_samples_split = split,\\\n",
    "                                            min_samples_leaf = leaf)\n",
    "            \n",
    "            for train_index, test_index in kf.split(X_train):\n",
    "                X_cv, X_val = np.asarray(X_train)[train_index], np.asarray(X_train)[test_index]\n",
    "                y_cv, y_val = np.asarray(y_train)[train_index], np.asarray(y_train)[test_index]\n",
    "                clf.fit(X_cv, y_cv)\n",
    "                train_list.append(clf.score(X_cv,y_cv))\n",
    "                val_list.append(clf.score(X_val,y_val))\n",
    "                \n",
    "            train_score = np.mean(train_list)\n",
    "            val_score = np.mean(val_list)\n",
    "            \n",
    "        \n",
    "            print('10-fold CV training score:', train_score)\n",
    "            print('10-fold CV test score:', val_score)\n",
    "            print()\n",
    "            \n",
    "            if val_score > best_score:\n",
    "                opt_depth = depth\n",
    "                opt_split = split\n",
    "                opt_leaf = leaf\n",
    "                best_score = val_score"
   ]
  },
  {
   "cell_type": "code",
   "execution_count": 209,
   "metadata": {},
   "outputs": [
    {
     "name": "stdout",
     "output_type": "stream",
     "text": [
      "Optimal max_depth: 4\n",
      "Optimal min_samples_split: 4\n",
      "Optimal min_samples_leaf: 4\n",
      "Best 10-fold CV test score: 0.8034040818988002\n"
     ]
    }
   ],
   "source": [
    "print('Optimal max_depth:', opt_depth)\n",
    "print('Optimal min_samples_split:', opt_split)\n",
    "print('Optimal min_samples_leaf:', opt_leaf)\n",
    "print('Best 10-fold CV test score:', val_score)"
   ]
  },
  {
   "cell_type": "code",
   "execution_count": 210,
   "metadata": {},
   "outputs": [
    {
     "name": "stdout",
     "output_type": "stream",
     "text": [
      "Train score: 0.8623595505617978\n",
      "Held-out test score: 0.8379888268156425\n"
     ]
    }
   ],
   "source": [
    "clf = DecisionTreeClassifier(random_state = 0, max_depth = None,\\\n",
    "                        min_samples_split = opt_split,\\\n",
    "                        min_samples_leaf = opt_leaf) \n",
    "clf.fit(X_train, y_train)\n",
    "train_score = np.mean(clf.score(X_train, y_train))\n",
    "test_score = np.mean(clf.score(X_test, y_test))\n",
    "print('Train score:', train_score)\n",
    "print('Held-out test score:', test_score)"
   ]
  },
  {
   "cell_type": "markdown",
   "metadata": {},
   "source": [
    "### Logistic Regression (with imputed missing values and new features)"
   ]
  },
  {
   "cell_type": "code",
   "execution_count": 211,
   "metadata": {},
   "outputs": [
    {
     "name": "stdout",
     "output_type": "stream",
     "text": [
      "10-fold train score: 0.8283682962072582\n",
      "10-fold validation score: 0.8037279689063342\n",
      "Held-out test score: 0.7877094972067039\n"
     ]
    }
   ],
   "source": [
    "from sklearn.linear_model import LogisticRegression\n",
    "\n",
    "K = 10\n",
    "kf = KFold(n_splits = K)\n",
    "\n",
    "logreg = LogisticRegression(penalty = 'l2', random_state = 0)\n",
    "for train_index, test_index in kf.split(X_train):\n",
    "    X, X_val = np.asarray(X_train)[train_index], np.asarray(X_train)[test_index]\n",
    "    y, y_val = np.asarray(y_train)[train_index], np.asarray(y_train)[test_index]\n",
    "    logreg.fit(X, y)\n",
    "    train_list.append(logreg.score(X,y))\n",
    "    val_list.append(logreg.score(X_val,y_val))\n",
    "\n",
    "print('10-fold train score:', np.mean(train_list))\n",
    "print('10-fold validation score:', np.mean(val_list))\n",
    "print('Held-out test score:', logreg.score(X_test, y_test))"
   ]
  },
  {
   "cell_type": "markdown",
   "metadata": {},
   "source": [
    "### Random Forest (with imputed missing values and new features)"
   ]
  },
  {
   "cell_type": "code",
   "execution_count": 212,
   "metadata": {},
   "outputs": [
    {
     "name": "stdout",
     "output_type": "stream",
     "text": [
      "Training Random Forest with  50  n_estimators...\n",
      "where max_depth: 1\n",
      "where max_depth: 2\n",
      "where max_depth: 3\n",
      "where max_depth: 4\n",
      "where max_depth: None\n",
      "Training Random Forest with  100  n_estimators...\n",
      "where max_depth: 1\n",
      "where max_depth: 2\n",
      "where max_depth: 3\n",
      "where max_depth: 4\n",
      "where max_depth: None\n",
      "Training Random Forest with  150  n_estimators...\n",
      "where max_depth: 1\n",
      "where max_depth: 2\n",
      "where max_depth: 3\n",
      "where max_depth: 4\n",
      "where max_depth: None\n"
     ]
    }
   ],
   "source": [
    "n_estimators = [50, 100, 150]\n",
    "max_depth = [1,2,3,4,None]\n",
    "min_samples_split = [2,3,4,5]\n",
    "min_samples_leaf = [1,2,3,4,5]\n",
    "\n",
    "K = 10\n",
    "kf = KFold(n_splits = K, shuffle = True, random_state = 0)\n",
    "opt_depth = np.nan\n",
    "opt_split = np.nan\n",
    "opt_leaf = np.nan\n",
    "opt_n_est = np.nan\n",
    "best_score = 0\n",
    "val_list = []\n",
    "train_list = []\n",
    "\n",
    "for n_est in n_estimators:\n",
    "    print('Training Random Forest with ', n_est, ' n_estimators...')\n",
    "    for depth in max_depth:\n",
    "        print('where max_depth:', depth)\n",
    "        for split in min_samples_split:\n",
    "            for leaf in min_samples_leaf:\n",
    "                \n",
    "                clf = RandomForestClassifier(n_estimators = n_est, random_state = 0, \\\n",
    "                                                max_depth = depth,\\\n",
    "                                                min_samples_split = split,\\\n",
    "                                                min_samples_leaf = leaf)\n",
    "\n",
    "                for train_index, test_index in kf.split(X_train):\n",
    "                    X, X_val = np.asarray(X_train)[train_index], np.asarray(X_train)[test_index]\n",
    "                    y, y_val = np.asarray(y_train)[train_index], np.asarray(y_train)[test_index]\n",
    "                    clf.fit(X, y)\n",
    "                    train_list.append(clf.score(X,y))\n",
    "                    val_list.append(clf.score(X_val,y_val))\n",
    "\n",
    "                train_score = np.mean(train_list)\n",
    "                val_score = np.mean(val_list)\n",
    "\n",
    "\n",
    "                #print('10-fold CV training score:', train_score)\n",
    "                #print('10-fold CV test score:', val_score)\n",
    "                #print()\n",
    "\n",
    "                if val_score > best_score:\n",
    "                    opt_depth = depth\n",
    "                    opt_split = split\n",
    "                    opt_leaf = leaf\n",
    "                    opt_n_est = n_est\n",
    "                    best_score = val_score"
   ]
  },
  {
   "cell_type": "code",
   "execution_count": 214,
   "metadata": {},
   "outputs": [
    {
     "name": "stdout",
     "output_type": "stream",
     "text": [
      "Optimal parameters for Random Forest Classifier:\n",
      "Optimal n_estimators: 150\n",
      "Optimal max_depth: None\n",
      "Optimal min_samples_split: 5\n",
      "Optimal min_samples_leaf: 5\n",
      "Best 10-fold CV test score: 0.8111654277516954\n"
     ]
    }
   ],
   "source": [
    "print('Optimal parameters for Random Forest Classifier:')\n",
    "print('Optimal n_estimators:', opt_n_est)\n",
    "print('Optimal max_depth:', opt_depth)\n",
    "print('Optimal min_samples_split:', opt_split)\n",
    "print('Optimal min_samples_leaf:', opt_leaf)\n",
    "print('Best 10-fold CV test score:', val_score)"
   ]
  },
  {
   "cell_type": "code",
   "execution_count": 213,
   "metadata": {},
   "outputs": [
    {
     "name": "stdout",
     "output_type": "stream",
     "text": [
      "Train score: 0.8553370786516854\n",
      "Held-out test score: 0.8100558659217877\n"
     ]
    }
   ],
   "source": [
    "rf = RandomForestClassifier(n_estimators = opt_n_est,\\\n",
    "                            max_depth = opt_depth,\\\n",
    "                            min_samples_split = opt_split,\\\n",
    "                            min_samples_leaf = opt_leaf,\\\n",
    "                            random_state = 0) \n",
    "rf.fit(X_train, y_train)\n",
    "train_score = np.mean(rf.score(X_train, y_train))\n",
    "test_score = np.mean(rf.score(X_test, y_test))\n",
    "print('Train score:', train_score)\n",
    "print('Held-out test score:', test_score)"
   ]
  },
  {
   "cell_type": "markdown",
   "metadata": {},
   "source": [
    "### Gradient Boosting (with imputed missing values and new features)"
   ]
  },
  {
   "cell_type": "code",
   "execution_count": 215,
   "metadata": {},
   "outputs": [
    {
     "name": "stdout",
     "output_type": "stream",
     "text": [
      "Training Gradient Boosting Classifier with  50  n_estimators...\n",
      "where max_depth: 1\n",
      "where max_depth: 2\n",
      "where max_depth: 3\n",
      "where max_depth: 4\n",
      "where max_depth: 5\n",
      "where max_depth: None\n",
      "Training Gradient Boosting Classifier with  100  n_estimators...\n",
      "where max_depth: 1\n",
      "where max_depth: 2\n",
      "where max_depth: 3\n",
      "where max_depth: 4\n",
      "where max_depth: 5\n",
      "where max_depth: None\n",
      "Training Gradient Boosting Classifier with  150  n_estimators...\n",
      "where max_depth: 1\n",
      "where max_depth: 2\n",
      "where max_depth: 3\n",
      "where max_depth: 4\n",
      "where max_depth: 5\n",
      "where max_depth: None\n"
     ]
    }
   ],
   "source": [
    "n_estimators = [50,100,150]\n",
    "max_depth = [1,2,3,4,5, None]\n",
    "min_samples_split = [2,3,4,5]\n",
    "min_samples_leaf = [1,2,3,4,5]\n",
    "\n",
    "K = 10\n",
    "kf = KFold(n_splits = K, shuffle = True, random_state = 0)\n",
    "opt_depth = np.nan\n",
    "opt_split = np.nan\n",
    "opt_leaf = np.nan\n",
    "opt_n_est = np.nan\n",
    "best_score = 0\n",
    "val_list = []\n",
    "train_list = []\n",
    "\n",
    "for n_est in n_estimators:\n",
    "    print('Training Gradient Boosting Classifier with ', n_est, ' n_estimators...')\n",
    "    for depth in max_depth:\n",
    "        print('where max_depth:', depth)\n",
    "        for split in min_samples_split:\n",
    "            for leaf in min_samples_leaf:\n",
    "                \n",
    "                clf = GradientBoostingClassifier(n_estimators = n_est, random_state = 0, \\\n",
    "                                                max_depth = depth,\\\n",
    "                                                min_samples_split = split,\\\n",
    "                                                min_samples_leaf = leaf)\n",
    "\n",
    "                for train_index, test_index in kf.split(X_train):\n",
    "                    X, X_val = np.asarray(X_train)[train_index], np.asarray(X_train)[test_index]\n",
    "                    y, y_val = np.asarray(y_train)[train_index], np.asarray(y_train)[test_index]\n",
    "                    clf.fit(X, y)\n",
    "                    train_list.append(clf.score(X,y))\n",
    "                    val_list.append(clf.score(X_val,y_val))\n",
    "\n",
    "                train_score = np.mean(train_list)\n",
    "                val_score = np.mean(val_list)\n",
    "\n",
    "\n",
    "                #print('10-fold CV training score:', train_score)\n",
    "                #print('10-fold CV test score:', val_score)\n",
    "                #print()\n",
    "\n",
    "                if val_score > best_score:\n",
    "                    opt_depth = depth\n",
    "                    opt_split = split\n",
    "                    opt_leaf = leaf\n",
    "                    opt_n_est = n_est\n",
    "                    best_score = val_score"
   ]
  },
  {
   "cell_type": "code",
   "execution_count": 216,
   "metadata": {},
   "outputs": [
    {
     "name": "stdout",
     "output_type": "stream",
     "text": [
      "Optimal parameters for Gradient Boosting Classifier:\n",
      "Optimal n_estimators: 50\n",
      "Optimal max_depth: 4\n",
      "Optimal min_samples_split: 2\n",
      "Optimal min_samples_leaf: 1\n",
      "Best 10-fold CV test score: 0.8162902647365675\n"
     ]
    }
   ],
   "source": [
    "print('Optimal parameters for Gradient Boosting Classifier:')\n",
    "print('Optimal n_estimators:', opt_n_est)\n",
    "print('Optimal max_depth:', opt_depth)\n",
    "print('Optimal min_samples_split:', opt_split)\n",
    "print('Optimal min_samples_leaf:', opt_leaf)\n",
    "print('Best 10-fold CV test score:', val_score)"
   ]
  },
  {
   "cell_type": "code",
   "execution_count": 217,
   "metadata": {},
   "outputs": [
    {
     "name": "stdout",
     "output_type": "stream",
     "text": [
      "Train score: 0.8764044943820225\n",
      "Held-out test score: 0.8156424581005587\n"
     ]
    }
   ],
   "source": [
    "gbc = GradientBoostingClassifier(n_estimators = opt_n_est, random_state = 0, max_depth = opt_depth,\\\n",
    "                        min_samples_split = opt_split,\\\n",
    "                        min_samples_leaf = opt_leaf) \n",
    "gbc.fit(X_train, y_train)\n",
    "train_score = np.mean(gbc.score(X_train, y_train))\n",
    "test_score = np.mean(gbc.score(X_test, y_test))\n",
    "print('Train score:', train_score)\n",
    "print('Held-out test score:', test_score)"
   ]
  },
  {
   "cell_type": "code",
   "execution_count": 222,
   "metadata": {},
   "outputs": [
    {
     "data": {
      "text/html": [
       "<div>\n",
       "<style scoped>\n",
       "    .dataframe tbody tr th:only-of-type {\n",
       "        vertical-align: middle;\n",
       "    }\n",
       "\n",
       "    .dataframe tbody tr th {\n",
       "        vertical-align: top;\n",
       "    }\n",
       "\n",
       "    .dataframe thead th {\n",
       "        text-align: right;\n",
       "    }\n",
       "</style>\n",
       "<table border=\"1\" class=\"dataframe\">\n",
       "  <thead>\n",
       "    <tr style=\"text-align: right;\">\n",
       "      <th></th>\n",
       "      <th>Cross-validated Performance (%)</th>\n",
       "      <th>Test Performance (%)</th>\n",
       "    </tr>\n",
       "  </thead>\n",
       "  <tbody>\n",
       "    <tr>\n",
       "      <th>Decision Tree</th>\n",
       "      <td>80.35</td>\n",
       "      <td>72.72</td>\n",
       "    </tr>\n",
       "    <tr>\n",
       "      <th>Decision Tree (with imputed missing values and new features)</th>\n",
       "      <td>86.20</td>\n",
       "      <td>83.80</td>\n",
       "    </tr>\n",
       "    <tr>\n",
       "      <th>LogisticRegression</th>\n",
       "      <td>80.70</td>\n",
       "      <td>76.90</td>\n",
       "    </tr>\n",
       "    <tr>\n",
       "      <th>Logistic Regression (with imputed missing values and new features)</th>\n",
       "      <td>80.40</td>\n",
       "      <td>78.80</td>\n",
       "    </tr>\n",
       "    <tr>\n",
       "      <th>Random Forest</th>\n",
       "      <td>79.40</td>\n",
       "      <td>80.40</td>\n",
       "    </tr>\n",
       "    <tr>\n",
       "      <th>Random Forest (with imputed missing values and new features)</th>\n",
       "      <td>85.50</td>\n",
       "      <td>81.00</td>\n",
       "    </tr>\n",
       "    <tr>\n",
       "      <th>Gradient Boosting</th>\n",
       "      <td>80.90</td>\n",
       "      <td>80.40</td>\n",
       "    </tr>\n",
       "    <tr>\n",
       "      <th>Gradient Boosting (with imputed missing values and new features)</th>\n",
       "      <td>81.60</td>\n",
       "      <td>81.60</td>\n",
       "    </tr>\n",
       "  </tbody>\n",
       "</table>\n",
       "</div>"
      ],
      "text/plain": [
       "                                                    Cross-validated Performance (%)  \\\n",
       "Decision Tree                                                                 80.35   \n",
       "Decision Tree (with imputed missing values and ...                            86.20   \n",
       "LogisticRegression                                                            80.70   \n",
       "Logistic Regression (with imputed missing value...                            80.40   \n",
       "Random Forest                                                                 79.40   \n",
       "Random Forest (with imputed missing values and ...                            85.50   \n",
       "Gradient Boosting                                                             80.90   \n",
       "Gradient Boosting (with imputed missing values ...                            81.60   \n",
       "\n",
       "                                                    Test Performance (%)  \n",
       "Decision Tree                                                      72.72  \n",
       "Decision Tree (with imputed missing values and ...                 83.80  \n",
       "LogisticRegression                                                 76.90  \n",
       "Logistic Regression (with imputed missing value...                 78.80  \n",
       "Random Forest                                                      80.40  \n",
       "Random Forest (with imputed missing values and ...                 81.00  \n",
       "Gradient Boosting                                                  80.40  \n",
       "Gradient Boosting (with imputed missing values ...                 81.60  "
      ]
     },
     "execution_count": 222,
     "metadata": {},
     "output_type": "execute_result"
    }
   ],
   "source": [
    "Model = ['Decision Tree', 'Decision Tree (with imputed missing values and new features)',\\\n",
    "         'LogisticRegression','Logistic Regression (with imputed missing values and new features)',\\\n",
    "         'Random Forest','Random Forest (with imputed missing values and new features)',\\\n",
    "         'Gradient Boosting', 'Gradient Boosting (with imputed missing values and new features)']\n",
    "\n",
    "scores = np.asarray([80.35, 72.72, 86.2, 83.8, 80.7, 76.9, 80.4, 78.8, 79.4, 80.4, 85.5, 81.0, 80.9, 80.4, 81.6, 81.6]).reshape(8,2)\n",
    "summary = pd.DataFrame(scores, index = Model, columns = ['Cross-validated Performance (%)','Test Performance (%)'])\n",
    "summary"
   ]
  },
  {
   "cell_type": "markdown",
   "metadata": {},
   "source": [
    "**Section 3.3**\n",
    "\n",
    "**Answers:**\n",
    "\n",
    "The cross-validation and test scores for each model (with and without imputed data and new features) are summarized above. It is noted that the test performances of models which use decision trees are better than that of Logistic Regression's. \n",
    "\n",
    "Also, it is noted that training models with imputed missing values and new features does _increase_ both cross-validated and test scores. \n",
    "\n",
    "We also note that the best performing model is the simple Decision Tree, which yielded the highest test score of 83.8%, with both Random Forest and Gradient Boosting following closely behind with 81.00% and 81.60% respectively. Initially, we would expect the Random Forest and Gradient Boosting models to perform slightly better than the simple Decision Tree due to the added randomness introduced by these models. This result can perhaps be attributed to the fact that both cross-validation and test scores are affected by how data is shuffled to a certain extent. Indeed, running the models with different values of 'random_state' yields slightly different test scores. \n",
    "\n",
    "As such, it might be misleading to conclude that the simple Decision Tree is the best model for this purpose. Instead, it would be more appropriate to conclude that all 3 tree-based models yield similar test accuracies of about 81.0%-83.0%. "
   ]
  }
 ],
 "metadata": {
  "anaconda-cloud": {},
  "kernelspec": {
   "display_name": "Python 3",
   "language": "python",
   "name": "python3"
  },
  "language_info": {
   "codemirror_mode": {
    "name": "ipython",
    "version": 3
   },
   "file_extension": ".py",
   "mimetype": "text/x-python",
   "name": "python",
   "nbconvert_exporter": "python",
   "pygments_lexer": "ipython3",
   "version": "3.6.4"
  }
 },
 "nbformat": 4,
 "nbformat_minor": 1
}
